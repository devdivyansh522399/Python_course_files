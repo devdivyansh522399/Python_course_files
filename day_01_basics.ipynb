{
  "cells": [
    {
      "cell_type": "markdown",
      "metadata": {
        "id": "view-in-github",
        "colab_type": "text"
      },
      "source": [
        "<a href=\"https://colab.research.google.com/github/devdivyansh522399/Python_course_files/blob/main/day_01_basics.ipynb\" target=\"_parent\"><img src=\"https://colab.research.google.com/assets/colab-badge.svg\" alt=\"Open In Colab\"/></a>"
      ]
    },
    {
      "cell_type": "code",
      "execution_count": null,
      "metadata": {
        "id": "_sDziZ1IVMD8",
        "outputId": "606126e9-6708-4e1c-b025-def21898d121"
      },
      "outputs": [
        {
          "name": "stdout",
          "output_type": "stream",
          "text": [
            "1\n",
            "2\n",
            "3\n",
            "4\n",
            "5\n",
            "no 10 rs notes are available \n"
          ]
        }
      ],
      "source": [
        "notes = 5 \n",
        "i = 1 \n",
        "j = 1\n",
        "while i < notes:\n",
        "    print(i)\n",
        "    i += 1\n",
        "else :\n",
        "    \n",
        "    while j < 2 :\n",
        "        print(i)\n",
        "        j = j + 1 \n",
        "    print(\"no 10 rs notes are available \")"
      ]
    },
    {
      "cell_type": "code",
      "execution_count": null,
      "metadata": {
        "id": "pdcvLwG8VMEG"
      },
      "outputs": [],
      "source": [
        "s = \"my name is sudhanshu\""
      ]
    },
    {
      "cell_type": "code",
      "execution_count": null,
      "metadata": {
        "id": "zx6Fs6-KVMEI",
        "outputId": "6ccb94a9-0c26-4f44-dea5-9089bc9e025d"
      },
      "outputs": [
        {
          "data": {
            "text/plain": [
              "'my name is sudhanshu'"
            ]
          },
          "execution_count": 32,
          "metadata": {},
          "output_type": "execute_result"
        }
      ],
      "source": [
        "s"
      ]
    },
    {
      "cell_type": "code",
      "execution_count": null,
      "metadata": {
        "id": "fzplcZWcVMEK",
        "outputId": "d7de0691-ed01-4fbc-d0f3-a55c4366ec88"
      },
      "outputs": [
        {
          "data": {
            "text/plain": [
              "' name is sud'"
            ]
          },
          "execution_count": 33,
          "metadata": {},
          "output_type": "execute_result"
        }
      ],
      "source": [
        "s[2:-6]"
      ]
    },
    {
      "cell_type": "code",
      "execution_count": null,
      "metadata": {
        "id": "mBL_zJmPVMER",
        "outputId": "90c4e087-5b06-4fe0-d4dc-546239ce3616"
      },
      "outputs": [
        {
          "data": {
            "text/plain": [
              "'nm s'"
            ]
          },
          "execution_count": 15,
          "metadata": {},
          "output_type": "execute_result"
        }
      ],
      "source": [
        "s[3:10:2]"
      ]
    },
    {
      "cell_type": "code",
      "execution_count": null,
      "metadata": {
        "id": "rEzvHa2XVMEU",
        "outputId": "dd4f8312-bbe4-4549-ab21-f3ca19325079"
      },
      "outputs": [
        {
          "data": {
            "text/plain": [
              "'uhsnahdus si eman ym'"
            ]
          },
          "execution_count": 22,
          "metadata": {},
          "output_type": "execute_result"
        }
      ],
      "source": [
        "s[::-1]"
      ]
    },
    {
      "cell_type": "code",
      "execution_count": null,
      "metadata": {
        "id": "wM2OOX0eVMEW",
        "outputId": "69116ac1-ce19-4971-d0b8-17cf28a15fd3"
      },
      "outputs": [
        {
          "data": {
            "text/plain": [
              "' name is sud'"
            ]
          },
          "execution_count": 23,
          "metadata": {},
          "output_type": "execute_result"
        }
      ],
      "source": [
        "s[2:-6]"
      ]
    },
    {
      "cell_type": "code",
      "execution_count": null,
      "metadata": {
        "id": "Be9I4jKxVMEe"
      },
      "outputs": [],
      "source": [
        "s = \"sudh\""
      ]
    },
    {
      "cell_type": "code",
      "execution_count": null,
      "metadata": {
        "id": "SDtsO9I8VMEg",
        "outputId": "5bb5c621-6992-45d0-8966-9af4fc17170d"
      },
      "outputs": [
        {
          "data": {
            "text/plain": [
              "'s'"
            ]
          },
          "execution_count": 28,
          "metadata": {},
          "output_type": "execute_result"
        }
      ],
      "source": [
        "s[0]"
      ]
    },
    {
      "cell_type": "code",
      "execution_count": null,
      "metadata": {
        "id": "DwpEjku0VMEm",
        "outputId": "d39a72d1-dc1b-40e0-c9c4-8a44c01c7860"
      },
      "outputs": [
        {
          "data": {
            "text/plain": [
              "'my name is sudhanshu'"
            ]
          },
          "execution_count": 34,
          "metadata": {},
          "output_type": "execute_result"
        }
      ],
      "source": [
        "s"
      ]
    },
    {
      "cell_type": "code",
      "execution_count": null,
      "metadata": {
        "id": "ZgOaGCR2VMEq",
        "outputId": "8043f28a-99bc-47b6-a414-281226b05ccc"
      },
      "outputs": [
        {
          "name": "stdout",
          "output_type": "stream",
          "text": [
            "m\n",
            "y\n",
            " \n",
            "n\n",
            "a\n",
            "m\n",
            "e\n",
            " \n",
            "i\n",
            " i got s as a string \n",
            "s\n",
            " \n",
            " i got s as a string \n",
            "s\n",
            "u\n",
            "d\n",
            "h\n",
            "a\n",
            "n\n",
            " i got s as a string \n",
            "s\n",
            "h\n",
            "u\n"
          ]
        }
      ],
      "source": [
        "for i in s :\n",
        "    if i == 's':\n",
        "        print(\" i got s as a string \")\n",
        "    print(i)"
      ]
    },
    {
      "cell_type": "code",
      "execution_count": null,
      "metadata": {
        "id": "SbLH0iNJVMEs",
        "outputId": "2b640367-3f7e-48a7-e5c6-1cd6fb0d7877"
      },
      "outputs": [
        {
          "data": {
            "text/plain": [
              "'my name is sudhanshu'"
            ]
          },
          "execution_count": 37,
          "metadata": {},
          "output_type": "execute_result"
        }
      ],
      "source": [
        "s "
      ]
    },
    {
      "cell_type": "code",
      "execution_count": null,
      "metadata": {
        "id": "56EyhrRTVMEw",
        "outputId": "fb9b9d3a-2435-47cf-b0ca-34d5b2e96753"
      },
      "outputs": [
        {
          "name": "stdout",
          "output_type": "stream",
          "text": [
            "m\n",
            "y\n",
            " \n",
            "a\n",
            "m\n",
            "e\n",
            " \n",
            "i\n",
            "s\n",
            " \n",
            "s\n",
            "u\n",
            "d\n",
            "h\n",
            "a\n",
            "s\n",
            "h\n",
            "u\n",
            "last char was u \n",
            "this is a else condtion \n"
          ]
        }
      ],
      "source": [
        "for i in s :\n",
        "    if i == \"n\":\n",
        "        continue \n",
        "    print(i)\n",
        "else :\n",
        "    if i == 'u':\n",
        "        print(\"last char was u \")\n",
        "    print(\"this is a else condtion \")"
      ]
    },
    {
      "cell_type": "code",
      "execution_count": null,
      "metadata": {
        "id": "pQ2lB0X2VME6"
      },
      "outputs": [],
      "source": [
        "s =  \"ineuron\"\n",
        "ss = \"\"\n",
        "for i in range(len(s)):\n",
        "    if s[i] == \"n\":\n",
        "        continue\n",
        "    else :\n",
        "        ss = ss + s[i]"
      ]
    },
    {
      "cell_type": "code",
      "execution_count": null,
      "metadata": {
        "id": "gRNv9W4sVME7",
        "outputId": "d9598682-5ddb-4af2-b769-971060d25da0"
      },
      "outputs": [
        {
          "data": {
            "text/plain": [
              "'ieuro'"
            ]
          },
          "execution_count": 54,
          "metadata": {},
          "output_type": "execute_result"
        }
      ],
      "source": [
        "ss"
      ]
    },
    {
      "cell_type": "code",
      "execution_count": null,
      "metadata": {
        "id": "cpKMYHITVME8",
        "outputId": "6f44ea06-5705-41af-8d1c-8402c4a1cbf9"
      },
      "outputs": [
        {
          "data": {
            "text/plain": [
              "7"
            ]
          },
          "execution_count": 55,
          "metadata": {},
          "output_type": "execute_result"
        }
      ],
      "source": [
        "len(s)"
      ]
    },
    {
      "cell_type": "code",
      "execution_count": null,
      "metadata": {
        "id": "50WpFNTXVME_",
        "outputId": "f556ce99-7368-425b-f1a3-27c89b34a250"
      },
      "outputs": [
        {
          "name": "stdout",
          "output_type": "stream",
          "text": [
            "+ \r\n",
            "+ + \r\n",
            "+ + + \r\n",
            "+ + + + \r\n",
            "+ + + + + \r\n",
            "+ + + + + + \r\n",
            "+ + + + + + + \r\n"
          ]
        }
      ],
      "source": [
        "n = 7 \n",
        "for i in range(0 ,n):\n",
        "    for j in range(0 ,i +1):\n",
        "        print(\"+ \" , end = \"\")\n",
        "    print(\"\\r\")\n",
        "    "
      ]
    },
    {
      "cell_type": "code",
      "execution_count": null,
      "metadata": {
        "id": "8uGVWJvAVMFA",
        "outputId": "a33455cb-483c-4880-b3ec-7f10093330ab"
      },
      "outputs": [
        {
          "name": "stdout",
          "output_type": "stream",
          "text": [
            "        * * * * * * \r\n",
            "         * * * * * \r\n",
            "          * * * * \r\n",
            "           * * * \r\n",
            "            * * \r\n",
            "             * \r\n"
          ]
        }
      ],
      "source": [
        "def pattern(n):\n",
        "      k = 2*n -2\n",
        "      for i in range(n,-1,-1):\n",
        "           for j in range(k,0,-1):\n",
        "                print(end=\" \")\n",
        "           k = k +1\n",
        "           for j in range(0, i+1):\n",
        "                print(\"*\", end=\" \")\n",
        "           print(\"\\r\")\n",
        " \n",
        "pattern(5)\n"
      ]
    },
    {
      "cell_type": "code",
      "execution_count": null,
      "metadata": {
        "id": "-W7p8t3DVMFC",
        "outputId": "dae57324-f030-4512-f850-03b1a5220092"
      },
      "outputs": [
        {
          "name": "stdout",
          "output_type": "stream",
          "text": [
            "7\n",
            "6\n",
            "5\n",
            "4\n",
            "3\n",
            "2\n",
            "1\n"
          ]
        }
      ],
      "source": [
        "for i in range(7,0,-1):\n",
        "    print(i)"
      ]
    },
    {
      "cell_type": "code",
      "execution_count": null,
      "metadata": {
        "id": "VRSEixiJVMFD",
        "outputId": "f282d29b-78d9-4295-f96d-d5661d950577"
      },
      "outputs": [
        {
          "name": "stdout",
          "output_type": "stream",
          "text": [
            "Enter number of rows required: 7\n",
            "*************\n",
            " ***********\n",
            "  *********\n",
            "   *******\n",
            "    *****\n",
            "     ***\n",
            "      *\n"
          ]
        }
      ],
      "source": [
        "n = int(input('Enter number of rows required: '))\n",
        "\n",
        "for i in range(n,0,-1):\n",
        "    for j in range(n-i):\n",
        "        print(' ', end='') \n",
        "    \n",
        "    for j in range(2*i-1):\n",
        "        print('*',end='') \n",
        "    print()\n"
      ]
    },
    {
      "cell_type": "code",
      "execution_count": null,
      "metadata": {
        "id": "sfXKvQsJVMFE",
        "outputId": "bba60a18-4517-4317-96e8-1889648d9682"
      },
      "outputs": [
        {
          "name": "stdout",
          "output_type": "stream",
          "text": [
            "8\n",
            "7\n",
            "6\n",
            "5\n",
            "4\n",
            "3\n",
            "2\n",
            "1\n"
          ]
        }
      ],
      "source": [
        "for i in range(8, 0, -1):\n",
        "    print(i)"
      ]
    },
    {
      "cell_type": "code",
      "execution_count": null,
      "metadata": {
        "id": "CtrQV0ryVMFH",
        "outputId": "214e39a3-1cc1-4c17-8491-974a1f8bdd9c"
      },
      "outputs": [
        {
          "name": "stdout",
          "output_type": "stream",
          "text": [
            "        * * * * * * \n",
            "         * * * * * \n",
            "          * * * * \n",
            "           * * * \n",
            "            * * \n",
            "             * \n"
          ]
        }
      ],
      "source": [
        "num = 5\n",
        "m = 2 * num - 2\n",
        "for i in range(num, -1, -1):\n",
        "    for j in range(m, 0, -1):\n",
        "        print(end=\" \")\n",
        "    m = m + 1\n",
        "    for j in range(0, i + 1):\n",
        "        print(\"*\", end=\" \")\n",
        "    print(\"\")\n"
      ]
    },
    {
      "cell_type": "code",
      "execution_count": null,
      "metadata": {
        "id": "41gpkemGVMFI",
        "outputId": "b0d2701a-34bd-493d-8eda-3af8fbc2fb03"
      },
      "outputs": [
        {
          "data": {
            "text/plain": [
              "'     '"
            ]
          },
          "execution_count": 80,
          "metadata": {},
          "output_type": "execute_result"
        }
      ],
      "source": [
        "\" \"*5"
      ]
    },
    {
      "cell_type": "code",
      "execution_count": null,
      "metadata": {
        "id": "bQt7Ui5bVMFJ"
      },
      "outputs": [],
      "source": [
        ""
      ]
    },
    {
      "cell_type": "code",
      "execution_count": null,
      "metadata": {
        "id": "9q9zE1GZVMFK",
        "outputId": "0b52098b-cd5f-4120-f5f6-87d2cca01ab3"
      },
      "outputs": [
        {
          "name": "stdout",
          "output_type": "stream",
          "text": [
            "        * \n",
            "       * * \n",
            "      * * * \n",
            "     * * * * \n",
            "    * * * * * \n",
            "   * * * * * * \n",
            "  * * * * * * * \n",
            " * * * * * * * * \n",
            "* * * * * * * * * \n"
          ]
        }
      ],
      "source": [
        "n =9\n",
        "i=0\n",
        "while i < n :\n",
        "    print(' '*(n-i-1) + '* '*(i+1))\n",
        "    i +=1\n"
      ]
    },
    {
      "cell_type": "code",
      "execution_count": null,
      "metadata": {
        "id": "g2GI6udNVMFL",
        "outputId": "178e8e4a-1f8e-459c-910a-73a234357c37"
      },
      "outputs": [
        {
          "name": "stdout",
          "output_type": "stream",
          "text": [
            "    *\n",
            "   ***\n",
            "  *****\n",
            " *******\n",
            "*********\n"
          ]
        }
      ],
      "source": [
        "i=1\n",
        "k=1 #for printing starts with the increament of 2\n",
        "\n",
        "while i<=5:\n",
        "    b=1\n",
        "    while b<=5-i:\n",
        "        print(' ',end='')\n",
        "        b=b+1\n",
        "        \n",
        "    j=1\n",
        "    while j<=k:\n",
        "        print('*', end='')\n",
        "        j=j+1\n",
        "    print()\n",
        "    \n",
        "    k=k+2\n",
        "    \n",
        "    i=i+1\n"
      ]
    },
    {
      "cell_type": "code",
      "execution_count": null,
      "metadata": {
        "id": "wP_KKDLKVMFM",
        "outputId": "80588a06-8e3c-49e4-e261-402fc161afd1"
      },
      "outputs": [
        {
          "name": "stdout",
          "output_type": "stream",
          "text": [
            "Please enter the amount of rows: 7\n",
            "      *\n",
            "     ***\n",
            "    *****\n",
            "   *******\n",
            "  *********\n",
            " ***********\n",
            "*************\n",
            "**iNeuron-FSDS**\n"
          ]
        }
      ],
      "source": [
        "userInput = int(input(\"Please enter the amount of rows: \"))\n",
        "\n",
        "row = 0\n",
        "while(row < userInput):\n",
        "    row += 1\n",
        "    spaces = userInput - row\n",
        "\n",
        "    spaces_counter = 0\n",
        "    while(spaces_counter < spaces):\n",
        "        print(\" \", end='')\n",
        "        spaces_counter += 1\n",
        "\n",
        "    num_stars = 2*row-1\n",
        "    while(num_stars > 0):\n",
        "        print(\"*\", end='')\n",
        "        num_stars -= 1\n",
        "\n",
        "    print()\n",
        "print(\"**iNeuron-FSDS**\")\n"
      ]
    },
    {
      "cell_type": "code",
      "execution_count": null,
      "metadata": {
        "id": "Vk69aq0DVMFO"
      },
      "outputs": [],
      "source": [
        "l = list()"
      ]
    },
    {
      "cell_type": "code",
      "execution_count": null,
      "metadata": {
        "id": "F_igoiiEVMFP"
      },
      "outputs": [],
      "source": [
        "name = \"sudh\"\n",
        "phno = 543535345\n",
        "addr = \"sdfsff\"\n",
        "\n",
        "name , phno , addr = \"sudh \" , 54353453,\"fgfd\""
      ]
    },
    {
      "cell_type": "code",
      "execution_count": null,
      "metadata": {
        "id": "lXNW4DSvVMFP",
        "outputId": "149ea59d-cdfa-41f4-8bdb-42036e1dded8"
      },
      "outputs": [
        {
          "data": {
            "text/plain": [
              "7"
            ]
          },
          "execution_count": 122,
          "metadata": {},
          "output_type": "execute_result"
        }
      ],
      "source": [
        "l = [\"sudh\" , 34535,\"sfsfsafa\", True, 45+8j , [3,5,6,\"dfg\"],6.787]\n",
        "\n",
        "len(l)"
      ]
    },
    {
      "cell_type": "code",
      "execution_count": null,
      "metadata": {
        "id": "xJDk-go7VMFQ",
        "outputId": "ffc4747e-87bb-4bbc-fc27-97018a904d76"
      },
      "outputs": [
        {
          "data": {
            "text/plain": [
              "range(0, 10)"
            ]
          },
          "execution_count": 121,
          "metadata": {},
          "output_type": "execute_result"
        }
      ],
      "source": [
        "range(10)"
      ]
    },
    {
      "cell_type": "code",
      "execution_count": null,
      "metadata": {
        "id": "Q8scaBpgVMFR",
        "outputId": "2f8469aa-5b44-4180-81ba-b2789892fd53"
      },
      "outputs": [
        {
          "data": {
            "text/plain": [
              "[0, 1, 2, 3, 4, 5, 6, 7, 8, 9]"
            ]
          },
          "execution_count": 119,
          "metadata": {},
          "output_type": "execute_result"
        }
      ],
      "source": [
        "list(range(10))"
      ]
    },
    {
      "cell_type": "code",
      "execution_count": null,
      "metadata": {
        "id": "7XGeH4tXVMFR",
        "outputId": "b8b12e92-9f3d-4c80-d01b-472afebbdfd7"
      },
      "outputs": [
        {
          "name": "stdout",
          "output_type": "stream",
          "text": [
            "4\n",
            "5\n",
            "6\n",
            "7\n",
            "8\n",
            "9\n"
          ]
        }
      ],
      "source": [
        "for  i in range(4,10):\n",
        "    print(i)"
      ]
    },
    {
      "cell_type": "code",
      "execution_count": null,
      "metadata": {
        "id": "UhEv80DRVMFS",
        "outputId": "fd2957ed-ba7d-440c-b2f6-857f84f37ddf"
      },
      "outputs": [
        {
          "data": {
            "text/plain": [
              "[]"
            ]
          },
          "execution_count": 114,
          "metadata": {},
          "output_type": "execute_result"
        }
      ],
      "source": [
        "l[80 :3:1]"
      ]
    },
    {
      "cell_type": "code",
      "execution_count": null,
      "metadata": {
        "id": "omHNZmwRVMFS",
        "outputId": "9c031152-6094-4b66-8070-6aa7cc816258"
      },
      "outputs": [
        {
          "name": "stdout",
          "output_type": "stream",
          "text": [
            "14\n",
            "<class 'str'>\n"
          ]
        }
      ],
      "source": [
        "for i in l :\n",
        "    if type(i) == list:\n",
        "        n = 0\n",
        "        for  j in i :\n",
        "            if type(j) == int :\n",
        "                n = n + j\n",
        "        print(n)\n",
        "                \n",
        "        print(type(j))"
      ]
    },
    {
      "cell_type": "code",
      "execution_count": null,
      "metadata": {
        "id": "iffdUt8MVMFT",
        "outputId": "8441b921-9a32-453d-9d9f-6232dc21de3b"
      },
      "outputs": [
        {
          "data": {
            "text/plain": [
              "list"
            ]
          },
          "execution_count": 88,
          "metadata": {},
          "output_type": "execute_result"
        }
      ],
      "source": [
        "type(l)"
      ]
    },
    {
      "cell_type": "code",
      "execution_count": null,
      "metadata": {
        "id": "9yiP4MSQVMFU",
        "outputId": "27d48e29-f784-4e6b-a362-a23b1569725e"
      },
      "outputs": [
        {
          "data": {
            "text/plain": [
              "list"
            ]
          },
          "execution_count": 94,
          "metadata": {},
          "output_type": "execute_result"
        }
      ],
      "source": [
        "l1 = []\n",
        "type(l1)"
      ]
    },
    {
      "cell_type": "code",
      "execution_count": null,
      "metadata": {
        "id": "plWfDkDvVMFV",
        "outputId": "77ea4d2b-3a84-44b6-8bb2-d526d91eba47"
      },
      "outputs": [
        {
          "data": {
            "text/plain": [
              "list"
            ]
          },
          "execution_count": 95,
          "metadata": {},
          "output_type": "execute_result"
        }
      ],
      "source": [
        "l2 = list()\n",
        "type(l2)"
      ]
    },
    {
      "cell_type": "code",
      "execution_count": null,
      "metadata": {
        "id": "Tj7cLOyKVMFW",
        "outputId": "6f844fd9-0ed2-4b60-d2ec-15b35c197b0c"
      },
      "outputs": [
        {
          "data": {
            "text/plain": [
              "list"
            ]
          },
          "execution_count": 90,
          "metadata": {},
          "output_type": "execute_result"
        }
      ],
      "source": [
        "type(l1)"
      ]
    },
    {
      "cell_type": "code",
      "execution_count": null,
      "metadata": {
        "id": "05LdbeVJVMFX",
        "outputId": "4e97bc86-5384-4752-8e91-f59dc58e447a"
      },
      "outputs": [
        {
          "data": {
            "text/plain": [
              "'sudh'"
            ]
          },
          "execution_count": 85,
          "metadata": {},
          "output_type": "execute_result"
        }
      ],
      "source": [
        "l[0]"
      ]
    },
    {
      "cell_type": "code",
      "execution_count": null,
      "metadata": {
        "id": "FTf2sUH2VMFY",
        "outputId": "a6cdf9ee-d2ed-42ed-b147-df4a4dfc19b4"
      },
      "outputs": [
        {
          "data": {
            "text/plain": [
              "34535"
            ]
          },
          "execution_count": 86,
          "metadata": {},
          "output_type": "execute_result"
        }
      ],
      "source": [
        "l[1]"
      ]
    },
    {
      "cell_type": "code",
      "execution_count": null,
      "metadata": {
        "id": "oPHrUQN-VMFZ",
        "outputId": "bad137ef-5bdc-4a4b-cb35-fc84380f19b9"
      },
      "outputs": [
        {
          "data": {
            "text/plain": [
              "'sfsfsafa'"
            ]
          },
          "execution_count": 87,
          "metadata": {},
          "output_type": "execute_result"
        }
      ],
      "source": [
        "l[2]"
      ]
    },
    {
      "cell_type": "code",
      "execution_count": null,
      "metadata": {
        "id": "Y3vmEzuoVMFZ"
      },
      "outputs": [],
      "source": [
        ""
      ]
    }
  ],
  "metadata": {
    "kernelspec": {
      "display_name": "Python 3",
      "language": "python",
      "name": "python3"
    },
    "language_info": {
      "codemirror_mode": {
        "name": "ipython",
        "version": 3
      },
      "file_extension": ".py",
      "mimetype": "text/x-python",
      "name": "python",
      "nbconvert_exporter": "python",
      "pygments_lexer": "ipython3",
      "version": "3.8.3"
    },
    "colab": {
      "name": "7th march live class notebook for loop while and range function  (1).ipynb",
      "provenance": [],
      "include_colab_link": true
    }
  },
  "nbformat": 4,
  "nbformat_minor": 0
}