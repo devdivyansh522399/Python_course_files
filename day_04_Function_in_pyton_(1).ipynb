{
  "cells": [
    {
      "cell_type": "markdown",
      "metadata": {
        "id": "view-in-github",
        "colab_type": "text"
      },
      "source": [
        "<a href=\"https://colab.research.google.com/github/devdivyansh522399/Python_course_files/blob/main/day_04_Function_in_pyton_(1).ipynb\" target=\"_parent\"><img src=\"https://colab.research.google.com/assets/colab-badge.svg\" alt=\"Open In Colab\"/></a>"
      ]
    },
    {
      "cell_type": "code",
      "execution_count": null,
      "metadata": {
        "id": "OZm1GozgeUqy",
        "outputId": "4b80092c-8962-4502-d67d-13ff388d8013"
      },
      "outputs": [
        {
          "data": {
            "text/plain": [
              "30"
            ]
          },
          "execution_count": 2,
          "metadata": {},
          "output_type": "execute_result"
        }
      ],
      "source": [
        "a = 10\n",
        "b = 20\n",
        "a+b"
      ]
    },
    {
      "cell_type": "code",
      "execution_count": null,
      "metadata": {
        "id": "0At3QnCNeUq8"
      },
      "outputs": [],
      "source": [
        "def test(x,y):\n",
        "    \n",
        "    print(x+y)"
      ]
    },
    {
      "cell_type": "code",
      "execution_count": null,
      "metadata": {
        "id": "2hNZZbEzeUq-",
        "outputId": "31818855-f6d6-4e90-a8a0-715aab6c0b50"
      },
      "outputs": [
        {
          "name": "stdout",
          "output_type": "stream",
          "text": [
            "68\n"
          ]
        },
        {
          "data": {
            "text/plain": [
              "NoneType"
            ]
          },
          "execution_count": 20,
          "metadata": {},
          "output_type": "execute_result"
        }
      ],
      "source": [
        "type(test(23,45))"
      ]
    },
    {
      "cell_type": "code",
      "execution_count": null,
      "metadata": {
        "id": "1DgJX0oaeUq_",
        "outputId": "f800deca-7259-46f8-bf22-d05f54fee8b4"
      },
      "outputs": [
        {
          "name": "stdout",
          "output_type": "stream",
          "text": [
            "90\n"
          ]
        }
      ],
      "source": [
        "b = test(34,56)"
      ]
    },
    {
      "cell_type": "code",
      "execution_count": null,
      "metadata": {
        "id": "iGOyyp5FeUrA",
        "outputId": "ff9c4638-2cbc-47d0-98b1-aeb64a2c1ffb"
      },
      "outputs": [
        {
          "data": {
            "text/plain": [
              "NoneType"
            ]
          },
          "execution_count": 29,
          "metadata": {},
          "output_type": "execute_result"
        }
      ],
      "source": [
        "type(b)"
      ]
    },
    {
      "cell_type": "code",
      "execution_count": null,
      "metadata": {
        "id": "p5iybMnAeUrA"
      },
      "outputs": [],
      "source": [
        "def test1(b,m):\n",
        "    return b * m "
      ]
    },
    {
      "cell_type": "code",
      "execution_count": null,
      "metadata": {
        "id": "tz6TPiybeUrB"
      },
      "outputs": [],
      "source": [
        "a = test1(5,89)"
      ]
    },
    {
      "cell_type": "code",
      "execution_count": null,
      "metadata": {
        "id": "6-H42a0jeUrC",
        "outputId": "3dae0dc5-e848-4d58-f569-6fec2e095e98"
      },
      "outputs": [
        {
          "data": {
            "text/plain": [
              "int"
            ]
          },
          "execution_count": 30,
          "metadata": {},
          "output_type": "execute_result"
        }
      ],
      "source": [
        "type(a)"
      ]
    },
    {
      "cell_type": "code",
      "execution_count": null,
      "metadata": {
        "id": "zbVtxQ-deUrD"
      },
      "outputs": [],
      "source": [
        "def test2(t,n,m):\n",
        "    return t + n\n",
        "    return n+m"
      ]
    },
    {
      "cell_type": "code",
      "execution_count": null,
      "metadata": {
        "id": "JipTFaP7eUrE",
        "outputId": "4ebf4587-64e6-4be4-81cb-30579a653e9d"
      },
      "outputs": [
        {
          "data": {
            "text/plain": [
              "9"
            ]
          },
          "execution_count": 78,
          "metadata": {},
          "output_type": "execute_result"
        }
      ],
      "source": [
        "test2(4,5,6)"
      ]
    },
    {
      "cell_type": "code",
      "execution_count": null,
      "metadata": {
        "id": "XdX_6IPjeUrF"
      },
      "outputs": [],
      "source": [
        ""
      ]
    },
    {
      "cell_type": "code",
      "execution_count": null,
      "metadata": {
        "id": "HgzquHu9eUrF"
      },
      "outputs": [],
      "source": [
        ""
      ]
    },
    {
      "cell_type": "code",
      "execution_count": null,
      "metadata": {
        "id": "CA16LDJgeUrG",
        "outputId": "d22b1a2a-34d9-4ad6-b269-c89d75612839"
      },
      "outputs": [
        {
          "data": {
            "text/plain": [
              "5"
            ]
          },
          "execution_count": 33,
          "metadata": {},
          "output_type": "execute_result"
        }
      ],
      "source": [
        "test2(2,3,0)"
      ]
    },
    {
      "cell_type": "code",
      "execution_count": null,
      "metadata": {
        "id": "SE1x0OrJeUrH"
      },
      "outputs": [],
      "source": [
        "def test3(n, m ):\n",
        "    return n*10 , m*40 ,m+n"
      ]
    },
    {
      "cell_type": "code",
      "execution_count": null,
      "metadata": {
        "id": "tF0v55KJeUrH",
        "outputId": "a5bd046e-9db4-425c-b84d-500f718cc183"
      },
      "outputs": [
        {
          "data": {
            "text/plain": [
              "(20, 280, 9)"
            ]
          },
          "execution_count": 37,
          "metadata": {},
          "output_type": "execute_result"
        }
      ],
      "source": [
        "test3(2,7)"
      ]
    },
    {
      "cell_type": "code",
      "execution_count": null,
      "metadata": {
        "id": "jaMJNQ2deUrI"
      },
      "outputs": [],
      "source": [
        "c,x,v = test3(2,7)"
      ]
    },
    {
      "cell_type": "code",
      "execution_count": null,
      "metadata": {
        "id": "MvC9ZIUPeUrI",
        "outputId": "af7b597d-8763-400b-caf3-d0d5862afa53"
      },
      "outputs": [
        {
          "data": {
            "text/plain": [
              "20"
            ]
          },
          "execution_count": 39,
          "metadata": {},
          "output_type": "execute_result"
        }
      ],
      "source": [
        "c"
      ]
    },
    {
      "cell_type": "code",
      "execution_count": null,
      "metadata": {
        "id": "Qd3kIjI3eUrJ",
        "outputId": "fde58a43-3805-4203-8a18-b47ad5feaac3"
      },
      "outputs": [
        {
          "data": {
            "text/plain": [
              "280"
            ]
          },
          "execution_count": 40,
          "metadata": {},
          "output_type": "execute_result"
        }
      ],
      "source": [
        "x"
      ]
    },
    {
      "cell_type": "code",
      "execution_count": null,
      "metadata": {
        "id": "uPGaiLL6eUrJ",
        "outputId": "2c26d5f2-995c-4a87-b943-b1f66ff8c4c9"
      },
      "outputs": [
        {
          "data": {
            "text/plain": [
              "9"
            ]
          },
          "execution_count": 41,
          "metadata": {},
          "output_type": "execute_result"
        }
      ],
      "source": [
        "v"
      ]
    },
    {
      "cell_type": "code",
      "execution_count": null,
      "metadata": {
        "id": "Gv4wIrUqeUrK"
      },
      "outputs": [],
      "source": [
        "c , x , _ = test3(2,7)"
      ]
    },
    {
      "cell_type": "code",
      "execution_count": null,
      "metadata": {
        "id": "VzhSleFzeUrK",
        "outputId": "a3e54ae5-7ace-455a-e7bf-4697a4613cc7"
      },
      "outputs": [
        {
          "data": {
            "text/plain": [
              "20"
            ]
          },
          "execution_count": 51,
          "metadata": {},
          "output_type": "execute_result"
        }
      ],
      "source": [
        "c "
      ]
    },
    {
      "cell_type": "code",
      "execution_count": null,
      "metadata": {
        "id": "e0j0nEEReUrL",
        "outputId": "3856abab-342a-4ad6-b65b-36f992cea5a5"
      },
      "outputs": [
        {
          "data": {
            "text/plain": [
              "280"
            ]
          },
          "execution_count": 52,
          "metadata": {},
          "output_type": "execute_result"
        }
      ],
      "source": [
        "x"
      ]
    },
    {
      "cell_type": "code",
      "execution_count": null,
      "metadata": {
        "id": "4WPRLTD4eUrL",
        "outputId": "c76d54ac-07e2-4e79-cc0c-3d52c40c6775"
      },
      "outputs": [
        {
          "data": {
            "text/plain": [
              "9"
            ]
          },
          "execution_count": 53,
          "metadata": {},
          "output_type": "execute_result"
        }
      ],
      "source": [
        "_"
      ]
    },
    {
      "cell_type": "code",
      "execution_count": null,
      "metadata": {
        "id": "RGyU5tTKeUrM"
      },
      "outputs": [],
      "source": [
        "_,_ , m= test3(2,7)"
      ]
    },
    {
      "cell_type": "code",
      "execution_count": null,
      "metadata": {
        "id": "vGTBk7T3eUrM",
        "outputId": "0f78be3a-e674-40a5-e30f-f8b35a447155"
      },
      "outputs": [
        {
          "data": {
            "text/plain": [
              "20"
            ]
          },
          "execution_count": 74,
          "metadata": {},
          "output_type": "execute_result"
        }
      ],
      "source": [
        "c"
      ]
    },
    {
      "cell_type": "code",
      "execution_count": null,
      "metadata": {
        "id": "M4S91PsoeUrM",
        "outputId": "c44c444a-07d0-4a5a-e530-508a36a6cc1e"
      },
      "outputs": [
        {
          "data": {
            "text/plain": [
              "9"
            ]
          },
          "execution_count": 75,
          "metadata": {},
          "output_type": "execute_result"
        }
      ],
      "source": [
        "m"
      ]
    },
    {
      "cell_type": "code",
      "execution_count": null,
      "metadata": {
        "id": "SKmeuth8eUrN",
        "outputId": "c99c3aed-6c12-41e1-f0ab-0ef0c69ea064"
      },
      "outputs": [
        {
          "data": {
            "text/plain": [
              "280"
            ]
          },
          "execution_count": 76,
          "metadata": {},
          "output_type": "execute_result"
        }
      ],
      "source": [
        "_"
      ]
    },
    {
      "cell_type": "code",
      "execution_count": null,
      "metadata": {
        "id": "NVcgRpOdeUrN"
      },
      "outputs": [],
      "source": [
        "def test():\n",
        "    print(\"this is my first funcation \")"
      ]
    },
    {
      "cell_type": "code",
      "execution_count": null,
      "metadata": {
        "id": "8u3ybbtgeUrO",
        "outputId": "d48706e0-c189-4b9e-e69f-afd79ecbc457"
      },
      "outputs": [
        {
          "name": "stdout",
          "output_type": "stream",
          "text": [
            "this is my first funcation \n"
          ]
        }
      ],
      "source": [
        "m = test()"
      ]
    },
    {
      "cell_type": "code",
      "execution_count": null,
      "metadata": {
        "id": "ZgB1qBYdeUrO",
        "outputId": "aa199057-d38d-46f7-9aa8-76b1910c395b"
      },
      "outputs": [
        {
          "ename": "TypeError",
          "evalue": "unsupported operand type(s) for +: 'NoneType' and 'str'",
          "output_type": "error",
          "traceback": [
            "\u001b[1;31m---------------------------------------------------------------------------\u001b[0m",
            "\u001b[1;31mTypeError\u001b[0m                                 Traceback (most recent call last)",
            "\u001b[1;32m<ipython-input-82-0231523aa123>\u001b[0m in \u001b[0;36m<module>\u001b[1;34m\u001b[0m\n\u001b[1;32m----> 1\u001b[1;33m \u001b[0mm\u001b[0m \u001b[1;33m+\u001b[0m \u001b[1;34m\"fsdfsfsd\"\u001b[0m\u001b[1;33m\u001b[0m\u001b[1;33m\u001b[0m\u001b[0m\n\u001b[0m",
            "\u001b[1;31mTypeError\u001b[0m: unsupported operand type(s) for +: 'NoneType' and 'str'"
          ]
        }
      ],
      "source": [
        "m + \"fsdfsfsd\""
      ]
    },
    {
      "cell_type": "code",
      "execution_count": null,
      "metadata": {
        "id": "kjxZn1yWeUrO"
      },
      "outputs": [],
      "source": [
        "def test7():\n",
        "    return \"this is my first class \""
      ]
    },
    {
      "cell_type": "code",
      "execution_count": null,
      "metadata": {
        "id": "3KfUPWBneUrP"
      },
      "outputs": [],
      "source": [
        "n = test7()"
      ]
    },
    {
      "cell_type": "code",
      "execution_count": null,
      "metadata": {
        "id": "BowRzaFZeUrP",
        "outputId": "18a94074-8f15-4d68-b222-5c96ca9211dc"
      },
      "outputs": [
        {
          "data": {
            "text/plain": [
              "'this is my first class fsfsfsd'"
            ]
          },
          "execution_count": 86,
          "metadata": {},
          "output_type": "execute_result"
        }
      ],
      "source": [
        "n + \"fsfsfsd\""
      ]
    },
    {
      "cell_type": "code",
      "execution_count": null,
      "metadata": {
        "id": "ZnEQGikKeUrP"
      },
      "outputs": [],
      "source": [
        "def test8(n):\n",
        "    return n * 2"
      ]
    },
    {
      "cell_type": "code",
      "execution_count": null,
      "metadata": {
        "id": "ViyFXfDdeUrP",
        "outputId": "4e7afdff-0ef1-4eea-cc23-a2b8120e9f71"
      },
      "outputs": [
        {
          "data": {
            "text/plain": [
              "[3, 4, 5, 6, 7, 3, 4, 5, 6, 7]"
            ]
          },
          "execution_count": 88,
          "metadata": {},
          "output_type": "execute_result"
        }
      ],
      "source": [
        "test8([3,4,5,6,7])"
      ]
    },
    {
      "cell_type": "code",
      "execution_count": null,
      "metadata": {
        "id": "-wJKEr5xeUrQ",
        "outputId": "8207b3f0-a9eb-4e82-a7cf-fbe313b8079e"
      },
      "outputs": [
        {
          "data": {
            "text/plain": [
              "134"
            ]
          },
          "execution_count": 89,
          "metadata": {},
          "output_type": "execute_result"
        }
      ],
      "source": [
        "test8(67)"
      ]
    },
    {
      "cell_type": "code",
      "execution_count": null,
      "metadata": {
        "id": "eV8M37dDeUrQ"
      },
      "outputs": [],
      "source": [
        "def test9(n):\n",
        "    return n,n*2"
      ]
    },
    {
      "cell_type": "code",
      "execution_count": null,
      "metadata": {
        "id": "lAOD4FQeeUrR"
      },
      "outputs": [],
      "source": [
        "b = test9([4,5,6,6,7])"
      ]
    },
    {
      "cell_type": "code",
      "execution_count": null,
      "metadata": {
        "id": "A4n2enoheUrR",
        "outputId": "e430bd90-1d77-432b-ac41-949ae37d9721"
      },
      "outputs": [
        {
          "data": {
            "text/plain": [
              "([4, 5, 6, 6, 7], [4, 5, 6, 6, 7, 4, 5, 6, 6, 7])"
            ]
          },
          "execution_count": 95,
          "metadata": {},
          "output_type": "execute_result"
        }
      ],
      "source": [
        "b"
      ]
    },
    {
      "cell_type": "code",
      "execution_count": null,
      "metadata": {
        "id": "GaskZW_QeUrR",
        "outputId": "2575be3b-7eb9-47f2-eae9-119b5fea0412"
      },
      "outputs": [
        {
          "data": {
            "text/plain": [
              "[4, 5, 6, 6, 7]"
            ]
          },
          "execution_count": 96,
          "metadata": {},
          "output_type": "execute_result"
        }
      ],
      "source": [
        "b[0]"
      ]
    },
    {
      "cell_type": "code",
      "execution_count": null,
      "metadata": {
        "id": "B0VAdA_IeUrR",
        "outputId": "0bacea9c-d125-4868-fe26-70bf30e708a4"
      },
      "outputs": [
        {
          "data": {
            "text/plain": [
              "[4, 5, 6, 6, 7, 4, 5, 6, 6, 7]"
            ]
          },
          "execution_count": 97,
          "metadata": {},
          "output_type": "execute_result"
        }
      ],
      "source": [
        "b[1]"
      ]
    },
    {
      "cell_type": "code",
      "execution_count": null,
      "metadata": {
        "id": "PtaHtMWJeUrS"
      },
      "outputs": [],
      "source": [
        "def test10(n , m = 90 ):\n",
        "    return n + m "
      ]
    },
    {
      "cell_type": "code",
      "execution_count": null,
      "metadata": {
        "id": "TJBg3iCieUrS",
        "outputId": "2f6e3c73-ad61-4046-a6fd-45e909f008d8"
      },
      "outputs": [
        {
          "data": {
            "text/plain": [
              "90"
            ]
          },
          "execution_count": 106,
          "metadata": {},
          "output_type": "execute_result"
        }
      ],
      "source": [
        "test10(60, 30)"
      ]
    },
    {
      "cell_type": "code",
      "execution_count": null,
      "metadata": {
        "id": "BoteMAA5eUrS"
      },
      "outputs": [],
      "source": [
        "print()"
      ]
    },
    {
      "cell_type": "code",
      "execution_count": null,
      "metadata": {
        "id": "u0j5NXkmeUrT"
      },
      "outputs": [],
      "source": [
        "def boolx(x = True , y = False):\n",
        "    return x + y "
      ]
    },
    {
      "cell_type": "code",
      "execution_count": null,
      "metadata": {
        "id": "Oa0D1KWxeUrT",
        "outputId": "65e44b87-0f1f-4651-a94c-d76c4b2dad58"
      },
      "outputs": [
        {
          "data": {
            "text/plain": [
              "1"
            ]
          },
          "execution_count": 108,
          "metadata": {},
          "output_type": "execute_result"
        }
      ],
      "source": [
        "boolx()"
      ]
    },
    {
      "cell_type": "code",
      "execution_count": null,
      "metadata": {
        "id": "Y2u4hu4SeUrT",
        "outputId": "f22fbee7-0306-410c-838b-207ff512575e"
      },
      "outputs": [
        {
          "data": {
            "text/plain": [
              "0"
            ]
          },
          "execution_count": 109,
          "metadata": {},
          "output_type": "execute_result"
        }
      ],
      "source": [
        "boolx(False)"
      ]
    },
    {
      "cell_type": "code",
      "execution_count": null,
      "metadata": {
        "id": "uyOXj-RoeUrT",
        "outputId": "b5d65b8a-7931-4d4f-cf7f-a319adb618aa"
      },
      "outputs": [
        {
          "data": {
            "text/plain": [
              "8"
            ]
          },
          "execution_count": 111,
          "metadata": {},
          "output_type": "execute_result"
        }
      ],
      "source": [
        "boolx(False , 8)"
      ]
    },
    {
      "cell_type": "code",
      "execution_count": null,
      "metadata": {
        "id": "P51p9mk1eUrU",
        "outputId": "7ef1f637-009f-41ba-b7d8-0f68d65d7cc8"
      },
      "outputs": [
        {
          "data": {
            "text/plain": [
              "1"
            ]
          },
          "execution_count": 112,
          "metadata": {},
          "output_type": "execute_result"
        }
      ],
      "source": [
        "True + False"
      ]
    },
    {
      "cell_type": "code",
      "execution_count": null,
      "metadata": {
        "id": "OtVJBXF0eUrU"
      },
      "outputs": [],
      "source": [
        "def travel( bike = True , car = False ) : \n",
        "    plan_travel = bike or car \n",
        "    return bike , car , plan_travel"
      ]
    },
    {
      "cell_type": "code",
      "execution_count": null,
      "metadata": {
        "id": "zr_N_uU0eUrU",
        "outputId": "7328141b-2968-4df2-ac5a-c0aeea2ccd41"
      },
      "outputs": [
        {
          "data": {
            "text/plain": [
              "(True, False, True)"
            ]
          },
          "execution_count": 115,
          "metadata": {},
          "output_type": "execute_result"
        }
      ],
      "source": [
        "travel()"
      ]
    },
    {
      "cell_type": "code",
      "execution_count": null,
      "metadata": {
        "id": "rcfAFkOJeUrV",
        "outputId": "6e996532-1e37-4f03-8b17-8d5e38ab4390"
      },
      "outputs": [
        {
          "data": {
            "text/plain": [
              "(True, True, True)"
            ]
          },
          "execution_count": 117,
          "metadata": {},
          "output_type": "execute_result"
        }
      ],
      "source": [
        "travel(car  = True )"
      ]
    },
    {
      "cell_type": "code",
      "execution_count": null,
      "metadata": {
        "id": "usK7hlk5eUrV",
        "outputId": "7e6f2818-6bf7-4a65-b035-83b8073ee1b5"
      },
      "outputs": [
        {
          "data": {
            "text/plain": [
              "(280, True, 280)"
            ]
          },
          "execution_count": 118,
          "metadata": {},
          "output_type": "execute_result"
        }
      ],
      "source": [
        "travel(_, True)"
      ]
    },
    {
      "cell_type": "code",
      "execution_count": null,
      "metadata": {
        "id": "y64rD1K_eUrV",
        "outputId": "1a1a7e37-321d-42e9-cf2c-897c7c166cca"
      },
      "outputs": [
        {
          "data": {
            "text/plain": [
              "280"
            ]
          },
          "execution_count": 119,
          "metadata": {},
          "output_type": "execute_result"
        }
      ],
      "source": [
        "_"
      ]
    },
    {
      "cell_type": "code",
      "execution_count": null,
      "metadata": {
        "id": "QYXqekGMeUrV"
      },
      "outputs": [],
      "source": [
        "def test11(*args ):\n",
        "    return args "
      ]
    },
    {
      "cell_type": "code",
      "execution_count": null,
      "metadata": {
        "id": "akiqdvUkeUrW",
        "outputId": "825e15a3-7521-4560-cd35-75f3a9c8ec7a"
      },
      "outputs": [
        {
          "data": {
            "text/plain": [
              "('sudhanshu', 'kumar ', 34, [34, 4, 4, 5, 454, 54])"
            ]
          },
          "execution_count": 123,
          "metadata": {},
          "output_type": "execute_result"
        }
      ],
      "source": [
        "test11(\"sudhanshu\" , \"kumar \", 34,[34,4,4,5,454,54])"
      ]
    },
    {
      "cell_type": "code",
      "execution_count": null,
      "metadata": {
        "id": "55ztZFIdeUrW"
      },
      "outputs": [],
      "source": [
        "def test12(a , b , c ):\n",
        "    return a + b + c "
      ]
    },
    {
      "cell_type": "code",
      "execution_count": null,
      "metadata": {
        "id": "iB3hx8YKeUrW",
        "outputId": "d3db02e6-4c0a-4fb3-b6ca-b7da0092a964"
      },
      "outputs": [
        {
          "data": {
            "text/plain": [
              "[1, 2, 3, 4, 4, 5, 6, 7, 4, 5, 6, 78]"
            ]
          },
          "execution_count": 126,
          "metadata": {},
          "output_type": "execute_result"
        }
      ],
      "source": [
        "test12([1,2,3,4] , [4,5,6,7] , [4,5,6,78])"
      ]
    },
    {
      "cell_type": "code",
      "execution_count": null,
      "metadata": {
        "id": "lUobuFGkeUrX"
      },
      "outputs": [],
      "source": [
        "def test13(*args):\n",
        "    l = []\n",
        "    for i in args:\n",
        "        l = l + i\n",
        "    return l \n",
        "        "
      ]
    },
    {
      "cell_type": "code",
      "execution_count": null,
      "metadata": {
        "id": "kKnXd9NpeUrX",
        "outputId": "4745d6ba-5f02-466d-efea-b8cb21e85f7a"
      },
      "outputs": [
        {
          "data": {
            "text/plain": [
              "[3, 4, 5, 6, 3, 4, 5, 6, 7, 3, 4, 5, 6]"
            ]
          },
          "execution_count": 131,
          "metadata": {},
          "output_type": "execute_result"
        }
      ],
      "source": [
        "test13([3,4,5,6] , [3,4,5,6,7] , [3,4,5,6])"
      ]
    },
    {
      "cell_type": "code",
      "execution_count": null,
      "metadata": {
        "id": "TW229l99eUrX",
        "outputId": "858e855b-a5fa-4d8e-bca0-34ab8b06fa76"
      },
      "outputs": [
        {
          "data": {
            "text/plain": [
              "[4, 5, 6, 6, 4, 5, 6, 7]"
            ]
          },
          "execution_count": 132,
          "metadata": {},
          "output_type": "execute_result"
        }
      ],
      "source": [
        "test13([4,5,6,6],[4,5,6,7])"
      ]
    },
    {
      "cell_type": "code",
      "execution_count": null,
      "metadata": {
        "id": "PGh8ii-HeUrY"
      },
      "outputs": [],
      "source": [
        "def test14(*args):\n",
        "    return [i for i in args]"
      ]
    },
    {
      "cell_type": "code",
      "execution_count": null,
      "metadata": {
        "id": "8EBpPG2CeUrY",
        "outputId": "d39ec507-d693-4d57-9bfc-f6701e3809e7"
      },
      "outputs": [
        {
          "data": {
            "text/plain": [
              "[[4, 5, 6, 6], [4, 5, 6, 7]]"
            ]
          },
          "execution_count": 136,
          "metadata": {},
          "output_type": "execute_result"
        }
      ],
      "source": [
        "test14([4,5,6,6],[4,5,6,7])"
      ]
    },
    {
      "cell_type": "code",
      "execution_count": null,
      "metadata": {
        "id": "cX3uY7vCeUrY",
        "outputId": "ded39d19-d9ce-47f3-db20-f96a5be890b0"
      },
      "outputs": [
        {
          "ename": "TypeError",
          "evalue": "can only concatenate list (not \"str\") to list",
          "output_type": "error",
          "traceback": [
            "\u001b[1;31m---------------------------------------------------------------------------\u001b[0m",
            "\u001b[1;31mTypeError\u001b[0m                                 Traceback (most recent call last)",
            "\u001b[1;32m<ipython-input-138-a7757a0ef063>\u001b[0m in \u001b[0;36m<module>\u001b[1;34m\u001b[0m\n\u001b[1;32m----> 1\u001b[1;33m \u001b[0mtest13\u001b[0m\u001b[1;33m(\u001b[0m\u001b[1;34m\"fdsfdsf\"\u001b[0m \u001b[1;33m,\u001b[0m \u001b[1;36m234\u001b[0m\u001b[1;33m,\u001b[0m\u001b[1;33m[\u001b[0m\u001b[1;36m3\u001b[0m\u001b[1;33m,\u001b[0m\u001b[1;36m4\u001b[0m\u001b[1;33m,\u001b[0m\u001b[1;36m5\u001b[0m\u001b[1;33m,\u001b[0m\u001b[1;36m6\u001b[0m\u001b[1;33m,\u001b[0m\u001b[1;36m7\u001b[0m\u001b[1;33m,\u001b[0m\u001b[1;36m8\u001b[0m\u001b[1;33m]\u001b[0m \u001b[1;33m,\u001b[0m \u001b[1;33m[\u001b[0m\u001b[1;36m5\u001b[0m\u001b[1;33m,\u001b[0m\u001b[1;36m7\u001b[0m\u001b[1;33m,\u001b[0m\u001b[1;36m7\u001b[0m\u001b[1;33m,\u001b[0m\u001b[1;36m8\u001b[0m\u001b[1;33m,\u001b[0m\u001b[1;36m9\u001b[0m\u001b[1;33m]\u001b[0m\u001b[1;33m)\u001b[0m\u001b[1;33m\u001b[0m\u001b[1;33m\u001b[0m\u001b[0m\n\u001b[0m",
            "\u001b[1;32m<ipython-input-137-d3d701c2feef>\u001b[0m in \u001b[0;36mtest13\u001b[1;34m(*args)\u001b[0m\n\u001b[0;32m      2\u001b[0m     \u001b[0ml\u001b[0m \u001b[1;33m=\u001b[0m \u001b[1;33m[\u001b[0m\u001b[1;33m]\u001b[0m\u001b[1;33m\u001b[0m\u001b[1;33m\u001b[0m\u001b[0m\n\u001b[0;32m      3\u001b[0m     \u001b[1;32mfor\u001b[0m \u001b[0mi\u001b[0m \u001b[1;32min\u001b[0m \u001b[0margs\u001b[0m\u001b[1;33m:\u001b[0m\u001b[1;33m\u001b[0m\u001b[1;33m\u001b[0m\u001b[0m\n\u001b[1;32m----> 4\u001b[1;33m         \u001b[0ml\u001b[0m \u001b[1;33m=\u001b[0m \u001b[0ml\u001b[0m \u001b[1;33m+\u001b[0m \u001b[0mi\u001b[0m\u001b[1;33m\u001b[0m\u001b[1;33m\u001b[0m\u001b[0m\n\u001b[0m\u001b[0;32m      5\u001b[0m     \u001b[1;32mreturn\u001b[0m \u001b[0ml\u001b[0m\u001b[1;33m\u001b[0m\u001b[1;33m\u001b[0m\u001b[0m\n\u001b[0;32m      6\u001b[0m \u001b[1;33m\u001b[0m\u001b[0m\n",
            "\u001b[1;31mTypeError\u001b[0m: can only concatenate list (not \"str\") to list"
          ]
        }
      ],
      "source": [
        "test13(\"fdsfdsf\" , 234,[3,4,5,6,7,8] , [5,7,7,8,9])"
      ]
    },
    {
      "cell_type": "code",
      "execution_count": null,
      "metadata": {
        "id": "ipKcr55geUrZ"
      },
      "outputs": [],
      "source": [
        "def test15(*args):\n",
        "    l = []\n",
        "    for i in args:\n",
        "        if type(i) == list:\n",
        "            \n",
        "            l = l + i\n",
        "    return l "
      ]
    },
    {
      "cell_type": "code",
      "execution_count": null,
      "metadata": {
        "id": "t1DMJZz3eUrZ",
        "outputId": "65db27b9-adea-44f8-f8c5-5dcc36e13676"
      },
      "outputs": [
        {
          "data": {
            "text/plain": [
              "[3, 4, 5, 6, 7, 8, 5, 7, 7, 8, 9]"
            ]
          },
          "execution_count": 140,
          "metadata": {},
          "output_type": "execute_result"
        }
      ],
      "source": [
        "test15(\"fdsfdsf\" , 234,[3,4,5,6,7,8] , [5,7,7,8,9])"
      ]
    },
    {
      "cell_type": "code",
      "execution_count": null,
      "metadata": {
        "id": "miudKS5UeUrZ"
      },
      "outputs": [],
      "source": [
        "def test16(**kwargs):\n",
        "    return kwargs"
      ]
    },
    {
      "cell_type": "code",
      "execution_count": null,
      "metadata": {
        "id": "jq-VJPXkeUrZ",
        "outputId": "19529a2f-782a-45c0-c7ab-4c96497a07a6"
      },
      "outputs": [
        {
          "ename": "TypeError",
          "evalue": "test16() takes 0 positional arguments but 3 were given",
          "output_type": "error",
          "traceback": [
            "\u001b[1;31m---------------------------------------------------------------------------\u001b[0m",
            "\u001b[1;31mTypeError\u001b[0m                                 Traceback (most recent call last)",
            "\u001b[1;32m<ipython-input-142-9fdf3b93d92e>\u001b[0m in \u001b[0;36m<module>\u001b[1;34m\u001b[0m\n\u001b[1;32m----> 1\u001b[1;33m \u001b[0mtest16\u001b[0m\u001b[1;33m(\u001b[0m\u001b[1;36m4\u001b[0m\u001b[1;33m,\u001b[0m\u001b[1;36m56\u001b[0m\u001b[1;33m,\u001b[0m\u001b[1;36m56\u001b[0m\u001b[1;33m)\u001b[0m\u001b[1;33m\u001b[0m\u001b[1;33m\u001b[0m\u001b[0m\n\u001b[0m",
            "\u001b[1;31mTypeError\u001b[0m: test16() takes 0 positional arguments but 3 were given"
          ]
        }
      ],
      "source": [
        "test16(4,56,56)"
      ]
    },
    {
      "cell_type": "code",
      "execution_count": null,
      "metadata": {
        "id": "ccb3Cpn5eUra",
        "outputId": "b99a5aba-f5a0-46cd-a059-ee7be3b94931"
      },
      "outputs": [
        {
          "data": {
            "text/plain": [
              "{'a': 8, 'b': True, 'c': [4, 5, 6, 6, 'kumar'], 'd': 'sudh'}"
            ]
          },
          "execution_count": 145,
          "metadata": {},
          "output_type": "execute_result"
        }
      ],
      "source": [
        "test16(a = 8 , b = True , c = [4,5,6,6,\"kumar\"] , d = \"sudh\")"
      ]
    },
    {
      "cell_type": "code",
      "execution_count": null,
      "metadata": {
        "id": "CQCg4_JmeUra"
      },
      "outputs": [],
      "source": [
        "def test17(*args):\n",
        "    return args"
      ]
    },
    {
      "cell_type": "code",
      "execution_count": null,
      "metadata": {
        "id": "ajqgCYqYeUra",
        "outputId": "9d39d265-6e9f-4b21-e090-0c58b3edb981"
      },
      "outputs": [
        {
          "data": {
            "text/plain": [
              "(4, 5, 6, 7, 'sudh', [4, 5, 6, 7, 8])"
            ]
          },
          "execution_count": 149,
          "metadata": {},
          "output_type": "execute_result"
        }
      ],
      "source": [
        "test17(4,5,6,7, \"sudh\" , [4,5,6,7,8])"
      ]
    },
    {
      "cell_type": "code",
      "execution_count": null,
      "metadata": {
        "id": "3ObWf5u9eUrb"
      },
      "outputs": [],
      "source": [
        "#1\n",
        "def fun1(*args):\n",
        "    a=[]\n",
        "    b=[]\n",
        "    c=[]\n",
        "    d=[]\n",
        "    e=[]\n",
        "    f=[]\n",
        "    g=[]\n",
        "    for i in args:\n",
        "        if type(i)==int:\n",
        "            a.append(i)\n",
        "        if type(i)==float:\n",
        "            b.append(i)\n",
        "        if type(i)==str:\n",
        "            c.append(i)\n",
        "        if type(i)==tuple:\n",
        "            d.append(i)\n",
        "        if type(i)==list:\n",
        "            e.append(i)\n",
        "        if type(i)==dict:\n",
        "            f.append(i)\n",
        "        if type(i)==bool:\n",
        "            g.append(i)\n",
        "    return a,b,c,d,e,f,g\n",
        "\n",
        "#2 \n",
        "def fun2(*args,**kwargs):\n",
        "    l=[i for i in args]\n",
        "    d=[i for i in kwargs]\n",
        "    return l,d\n"
      ]
    },
    {
      "cell_type": "code",
      "execution_count": null,
      "metadata": {
        "id": "aHCIMsAAeUrb"
      },
      "outputs": [],
      "source": [
        "#1\n",
        "def fun1(*args):\n",
        "    a=[]\n",
        "    b=[]\n",
        "    c=[]\n",
        "    d=[]\n",
        "    e=[]\n",
        "    f=[]\n",
        "    g=[]\n",
        "    for i in args:\n",
        "        if type(i)==int:\n",
        "            a.append(i)\n",
        "        if type(i)==float:\n",
        "            b.append(i)\n",
        "        if type(i)==str:\n",
        "            c.append(i)\n",
        "        if type(i)==tuple:\n",
        "            d.append(i)\n",
        "        if type(i)==list:\n",
        "            e.append(i)\n",
        "        if type(i)==dict:\n",
        "            f.append(i)\n",
        "        if type(i)==bool:\n",
        "            g.append(i)\n",
        "    return a,b,c,d,e,f,g"
      ]
    },
    {
      "cell_type": "code",
      "execution_count": null,
      "metadata": {
        "id": "8rz7XaofeUrc",
        "outputId": "bf27656b-59b8-41e3-bec3-f6237f360154"
      },
      "outputs": [
        {
          "data": {
            "text/plain": [
              "([3, 4, 5, 6, 6],\n",
              " [7.45],\n",
              " [],\n",
              " [],\n",
              " [[4, 5, 6, 7, 8, 9], [4, 5, 6, 7, 8, 90]],\n",
              " [],\n",
              " [True, False])"
            ]
          },
          "execution_count": 152,
          "metadata": {},
          "output_type": "execute_result"
        }
      ],
      "source": [
        "fun1(3,4,5,6,6,7.45,True ,False , [4,5,6,7,8,9] , [4,5,6,7,8,90] , 4+5j)"
      ]
    },
    {
      "cell_type": "code",
      "execution_count": null,
      "metadata": {
        "id": "8C5rnHgFeUrc"
      },
      "outputs": [],
      "source": [
        "def fun2(*args,**kwargs):\n",
        "    l=[i for i in args if type(i) == list ]\n",
        "    d=[i[1] for i in kwargs.items() if type(i[1]) == list ]\n",
        "    return l,d"
      ]
    },
    {
      "cell_type": "code",
      "execution_count": null,
      "metadata": {
        "id": "JJcLrYQCeUrc",
        "outputId": "684aa18f-6384-437f-e7b5-38cc8d2b826f"
      },
      "outputs": [
        {
          "data": {
            "text/plain": [
              "([[4, 5, 6, 7, 8], [5, 6, 7, 8, 9, 0]], [[4, 5, 6, 7]])"
            ]
          },
          "execution_count": 166,
          "metadata": {},
          "output_type": "execute_result"
        }
      ],
      "source": [
        "fun2([4,5,6,7,8] , [5,6,7,8,9,0] , 5,5,6,7, a = 5 , b = \"fsdfds\" , m = [4,5,6,7])"
      ]
    },
    {
      "cell_type": "code",
      "execution_count": null,
      "metadata": {
        "id": "dEHv43hfeUrc"
      },
      "outputs": [],
      "source": [
        "def test18(**kwargs):\n",
        "    for i in kwargs.items():\n",
        "        if type(i[1])== list :\n",
        "            if \"sudh\" in i[1] :\n",
        "                print(\"i am able to find your name in input data \")\n",
        "                print(i[1])\n",
        "    return kwargs"
      ]
    },
    {
      "cell_type": "code",
      "execution_count": null,
      "metadata": {
        "id": "nqzV0vEheUrd",
        "outputId": "fa352a72-5055-48d3-ca30-7b4e32f6ad80"
      },
      "outputs": [
        {
          "name": "stdout",
          "output_type": "stream",
          "text": [
            "i am able to find your name in input data \n",
            "['sudh', 'kumar ', 5.67]\n"
          ]
        },
        {
          "data": {
            "text/plain": [
              "{'b': 6, 'c': [4, 5, 6, 7], 'd': ['sudh', 'kumar ', 5.67], 'n': (6+7j)}"
            ]
          },
          "execution_count": 197,
          "metadata": {},
          "output_type": "execute_result"
        }
      ],
      "source": [
        "test18(b =6 , c = [4,5,6,7] , d = [\"sudh\" , \"kumar \" , 5.67], n = 6 + 7j)"
      ]
    },
    {
      "cell_type": "code",
      "execution_count": null,
      "metadata": {
        "id": "yTy1J6QfeUrd"
      },
      "outputs": [],
      "source": [
        "d ={'b': 6, 'c': [4, 5, 6, 7], 'd': ['sudh', 'kumar ', 5.67], 'n': (6+7j)}"
      ]
    },
    {
      "cell_type": "code",
      "execution_count": null,
      "metadata": {
        "id": "xsOJzpRdeUrd",
        "outputId": "0e9a12fa-ec71-45ea-bcfa-9bc80c307773"
      },
      "outputs": [
        {
          "data": {
            "text/plain": [
              "dict_values([6, [4, 5, 6, 7], ['sudh', 'kumar ', 5.67], (6+7j)])"
            ]
          },
          "execution_count": 201,
          "metadata": {},
          "output_type": "execute_result"
        }
      ],
      "source": [
        "d.values()"
      ]
    },
    {
      "cell_type": "code",
      "execution_count": null,
      "metadata": {
        "id": "AwiUtSGbeUre",
        "outputId": "ac4d93c7-7d51-4eee-af24-518b4b5516bf"
      },
      "outputs": [
        {
          "data": {
            "text/plain": [
              "{int: [1, 2, 3],\n",
              " list: [[5, 6, 7]],\n",
              " str: ['hi', 'io'],\n",
              " complex: [(6+7j), (6+4j)]}"
            ]
          },
          "execution_count": 205,
          "metadata": {},
          "output_type": "execute_result"
        }
      ],
      "source": [
        "def func1(*args):\n",
        "  dt = {}\n",
        "  for i in args:\n",
        "    if type(i) in dt:\n",
        "      dt[type(i)].append(i)\n",
        "    else:\n",
        "      dt[type(i)] = [i]\n",
        "  return dt\n",
        "    \n",
        "func1(1,2,3,[5,6,7],'hi','io', 6+7j , 6+4j)\n"
      ]
    },
    {
      "cell_type": "code",
      "execution_count": null,
      "metadata": {
        "id": "mhbwtiPDeUre"
      },
      "outputs": [],
      "source": [
        ""
      ]
    }
  ],
  "metadata": {
    "kernelspec": {
      "display_name": "Python 3",
      "language": "python",
      "name": "python3"
    },
    "language_info": {
      "codemirror_mode": {
        "name": "ipython",
        "version": 3
      },
      "file_extension": ".py",
      "mimetype": "text/x-python",
      "name": "python",
      "nbconvert_exporter": "python",
      "pygments_lexer": "ipython3",
      "version": "3.8.3"
    },
    "colab": {
      "name": "Function in pyton  (1).ipynb",
      "provenance": [],
      "include_colab_link": true
    }
  },
  "nbformat": 4,
  "nbformat_minor": 0
}