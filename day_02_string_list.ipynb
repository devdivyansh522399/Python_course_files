{
  "cells": [
    {
      "cell_type": "markdown",
      "metadata": {
        "id": "view-in-github",
        "colab_type": "text"
      },
      "source": [
        "<a href=\"https://colab.research.google.com/github/devdivyansh522399/Python_course_files/blob/main/day_02_string_list.ipynb\" target=\"_parent\"><img src=\"https://colab.research.google.com/assets/colab-badge.svg\" alt=\"Open In Colab\"/></a>"
      ]
    },
    {
      "cell_type": "code",
      "execution_count": null,
      "metadata": {
        "id": "oGfQjXMMYFWc"
      },
      "outputs": [],
      "source": [
        "a = \"sud'h\""
      ]
    },
    {
      "cell_type": "code",
      "execution_count": null,
      "metadata": {
        "id": "mRx-FVH4YFWj"
      },
      "outputs": [],
      "source": [
        "b = 'sud\"h'"
      ]
    },
    {
      "cell_type": "code",
      "execution_count": null,
      "metadata": {
        "id": "dH_-4GD5YFWl",
        "outputId": "a671ea56-df0c-4ada-fdd1-5aecdc776887"
      },
      "outputs": [
        {
          "data": {
            "text/plain": [
              "'sudh'"
            ]
          },
          "execution_count": 3,
          "metadata": {},
          "output_type": "execute_result"
        }
      ],
      "source": [
        "a"
      ]
    },
    {
      "cell_type": "code",
      "execution_count": null,
      "metadata": {
        "id": "DZ0FOdwHYFWo",
        "outputId": "483cfc8c-d0a3-44aa-b1b7-7ec9cac2e280"
      },
      "outputs": [
        {
          "data": {
            "text/plain": [
              "'sudh'"
            ]
          },
          "execution_count": 4,
          "metadata": {},
          "output_type": "execute_result"
        }
      ],
      "source": [
        "b"
      ]
    },
    {
      "cell_type": "code",
      "execution_count": null,
      "metadata": {
        "id": "1mf6NQ3uYFWp"
      },
      "outputs": [],
      "source": [
        "c = 'this is my first class for full stack data science  that\"s why i have joined this class '"
      ]
    },
    {
      "cell_type": "code",
      "execution_count": null,
      "metadata": {
        "id": "_DUAJxs5YFWq",
        "outputId": "cacca308-1f0d-4ae5-fc1d-efa70acfc80a"
      },
      "outputs": [
        {
          "data": {
            "text/plain": [
              "'this is my first class for full stack data science  that\"s why i have joined this class '"
            ]
          },
          "execution_count": 13,
          "metadata": {},
          "output_type": "execute_result"
        }
      ],
      "source": [
        "c"
      ]
    },
    {
      "cell_type": "code",
      "execution_count": null,
      "metadata": {
        "id": "zUinP6AoYFWr"
      },
      "outputs": [],
      "source": [
        "s = \"this is full stack class\""
      ]
    },
    {
      "cell_type": "code",
      "execution_count": null,
      "metadata": {
        "id": "67MuMO4cYFWt",
        "outputId": "3e7f7733-65ea-443f-f28b-11d22cda4680"
      },
      "outputs": [
        {
          "data": {
            "text/plain": [
              "'t'"
            ]
          },
          "execution_count": 22,
          "metadata": {},
          "output_type": "execute_result"
        }
      ],
      "source": [
        "s[0]"
      ]
    },
    {
      "cell_type": "code",
      "execution_count": null,
      "metadata": {
        "id": "kVQgQsB6YFWu",
        "outputId": "562109a7-beba-4f01-ca79-de2b6a147892"
      },
      "outputs": [
        {
          "data": {
            "text/plain": [
              "'s'"
            ]
          },
          "execution_count": 23,
          "metadata": {},
          "output_type": "execute_result"
        }
      ],
      "source": [
        "s[-1]"
      ]
    },
    {
      "cell_type": "code",
      "execution_count": null,
      "metadata": {
        "id": "w-xwpN8bYFWw",
        "outputId": "97608ba2-40f8-4ea2-b6b5-ab38efb1f076"
      },
      "outputs": [
        {
          "data": {
            "text/plain": [
              "24"
            ]
          },
          "execution_count": 24,
          "metadata": {},
          "output_type": "execute_result"
        }
      ],
      "source": [
        "len(s)"
      ]
    },
    {
      "cell_type": "code",
      "execution_count": null,
      "metadata": {
        "id": "bK0hUtENYFWy",
        "outputId": "b7158457-1c9b-47de-d703-b31c21162b53"
      },
      "outputs": [
        {
          "ename": "IndexError",
          "evalue": "string index out of range",
          "output_type": "error",
          "traceback": [
            "\u001b[1;31m---------------------------------------------------------------------------\u001b[0m",
            "\u001b[1;31mIndexError\u001b[0m                                Traceback (most recent call last)",
            "\u001b[1;32m<ipython-input-25-2a138df92e52>\u001b[0m in \u001b[0;36m<module>\u001b[1;34m\u001b[0m\n\u001b[1;32m----> 1\u001b[1;33m \u001b[0ms\u001b[0m\u001b[1;33m[\u001b[0m\u001b[1;36m100\u001b[0m\u001b[1;33m]\u001b[0m\u001b[1;33m\u001b[0m\u001b[1;33m\u001b[0m\u001b[0m\n\u001b[0m",
            "\u001b[1;31mIndexError\u001b[0m: string index out of range"
          ]
        }
      ],
      "source": [
        "s[100]"
      ]
    },
    {
      "cell_type": "code",
      "execution_count": null,
      "metadata": {
        "id": "wNTzCI6zYFWz",
        "outputId": "778ab3e0-9238-4e99-e224-9bc960599c8c"
      },
      "outputs": [
        {
          "data": {
            "text/plain": [
              "'ssalc kca'"
            ]
          },
          "execution_count": 29,
          "metadata": {},
          "output_type": "execute_result"
        }
      ],
      "source": [
        "s[-1:-10:-1]"
      ]
    },
    {
      "cell_type": "code",
      "execution_count": null,
      "metadata": {
        "id": "bfDAi5LDYFW0",
        "outputId": "f6fc1028-5d8f-4155-b905-df03569bd723"
      },
      "outputs": [
        {
          "data": {
            "text/plain": [
              "'ssalc kcats lluf si siht'"
            ]
          },
          "execution_count": 33,
          "metadata": {},
          "output_type": "execute_result"
        }
      ],
      "source": [
        "s[::-1]"
      ]
    },
    {
      "cell_type": "code",
      "execution_count": null,
      "metadata": {
        "id": "A6r_itKSYFW1"
      },
      "outputs": [],
      "source": [
        ""
      ]
    },
    {
      "cell_type": "code",
      "execution_count": null,
      "metadata": {
        "id": "_QsS3XJWYFW2",
        "outputId": "12d95983-3e8a-4a29-bfd4-8fb3b257643f"
      },
      "outputs": [
        {
          "data": {
            "text/plain": [
              "'this is full stack class'"
            ]
          },
          "execution_count": 46,
          "metadata": {},
          "output_type": "execute_result"
        }
      ],
      "source": [
        "s"
      ]
    },
    {
      "cell_type": "code",
      "execution_count": null,
      "metadata": {
        "id": "dhomozw3YFW2",
        "outputId": "c588589e-631e-4531-e2df-deb3bb1d8a60"
      },
      "outputs": [
        {
          "data": {
            "text/plain": [
              "'sackaslu ish'"
            ]
          },
          "execution_count": 47,
          "metadata": {},
          "output_type": "execute_result"
        }
      ],
      "source": [
        "s[::-2]"
      ]
    },
    {
      "cell_type": "code",
      "execution_count": null,
      "metadata": {
        "id": "jWYn4dfeYFW3",
        "outputId": "dad9cd77-b4bf-43a5-c1c3-dcdcbf3ba29b"
      },
      "outputs": [
        {
          "data": {
            "text/plain": [
              "'this is full stack class'"
            ]
          },
          "execution_count": 34,
          "metadata": {},
          "output_type": "execute_result"
        }
      ],
      "source": [
        "s "
      ]
    },
    {
      "cell_type": "code",
      "execution_count": null,
      "metadata": {
        "id": "0PsNMJOHYFW4",
        "outputId": "12300953-86b3-4c32-acaa-e00fc922a764"
      },
      "outputs": [
        {
          "ename": "TypeError",
          "evalue": "'str' object does not support item assignment",
          "output_type": "error",
          "traceback": [
            "\u001b[1;31m---------------------------------------------------------------------------\u001b[0m",
            "\u001b[1;31mTypeError\u001b[0m                                 Traceback (most recent call last)",
            "\u001b[1;32m<ipython-input-36-416b596371a8>\u001b[0m in \u001b[0;36m<module>\u001b[1;34m\u001b[0m\n\u001b[1;32m----> 1\u001b[1;33m \u001b[0ms\u001b[0m\u001b[1;33m[\u001b[0m\u001b[1;36m0\u001b[0m\u001b[1;33m]\u001b[0m \u001b[1;33m=\u001b[0m \u001b[1;34m\"x\"\u001b[0m\u001b[1;33m\u001b[0m\u001b[1;33m\u001b[0m\u001b[0m\n\u001b[0m",
            "\u001b[1;31mTypeError\u001b[0m: 'str' object does not support item assignment"
          ]
        }
      ],
      "source": [
        "s[0] = \"x\""
      ]
    },
    {
      "cell_type": "code",
      "execution_count": null,
      "metadata": {
        "id": "yVH7O4CzYFW5"
      },
      "outputs": [],
      "source": [
        "l = [\"sdfs\",234,345.45,True]"
      ]
    },
    {
      "cell_type": "code",
      "execution_count": null,
      "metadata": {
        "id": "1cKVMd9jYFW6",
        "outputId": "ee0aef47-5fe8-43c6-8072-31e531d4c458"
      },
      "outputs": [
        {
          "data": {
            "text/plain": [
              "'this is full stack class'"
            ]
          },
          "execution_count": 41,
          "metadata": {},
          "output_type": "execute_result"
        }
      ],
      "source": [
        "s"
      ]
    },
    {
      "cell_type": "code",
      "execution_count": null,
      "metadata": {
        "id": "0-xK4Zo9YFW7"
      },
      "outputs": [],
      "source": [
        "s = \"ffsfsfds\""
      ]
    },
    {
      "cell_type": "code",
      "execution_count": null,
      "metadata": {
        "id": "ff5qyGhJYFW7",
        "outputId": "55a6b9eb-d525-4f1f-e599-4ad764995540"
      },
      "outputs": [
        {
          "data": {
            "text/plain": [
              "'ffsfsfds'"
            ]
          },
          "execution_count": 43,
          "metadata": {},
          "output_type": "execute_result"
        }
      ],
      "source": [
        "s"
      ]
    },
    {
      "cell_type": "code",
      "execution_count": null,
      "metadata": {
        "id": "TR0rcKVTYFW8"
      },
      "outputs": [],
      "source": [
        "l[0] = \"sudh\""
      ]
    },
    {
      "cell_type": "code",
      "execution_count": null,
      "metadata": {
        "id": "EZKb1QLVYFW9",
        "outputId": "876bce34-d02e-4ada-a969-a4eed3d4fd75"
      },
      "outputs": [
        {
          "data": {
            "text/plain": [
              "['sudh', 234, 345.45, True]"
            ]
          },
          "execution_count": 40,
          "metadata": {},
          "output_type": "execute_result"
        }
      ],
      "source": [
        "l"
      ]
    },
    {
      "cell_type": "code",
      "execution_count": null,
      "metadata": {
        "id": "48t48w9sYFW9",
        "outputId": "3e9183a2-16db-4f8a-844d-c5f96659cec9"
      },
      "outputs": [
        {
          "name": "stdout",
          "output_type": "stream",
          "text": [
            "t\n",
            "h\n",
            "i\n",
            "s\n",
            " \n",
            "i\n",
            "s\n",
            " \n",
            "f\n",
            "u\n",
            "l\n",
            "l\n",
            " \n",
            "s\n",
            "t\n",
            "a\n",
            "c\n",
            "k\n",
            " \n",
            "c\n",
            "l\n",
            "a\n",
            "s\n",
            "s\n"
          ]
        }
      ],
      "source": [
        "for i in range(len(s)) :\n",
        "    print(s[i])"
      ]
    },
    {
      "cell_type": "code",
      "execution_count": null,
      "metadata": {
        "id": "jm2TheRRYFW-",
        "outputId": "0dbc6ee4-d9ee-411d-b148-80c8820f210a"
      },
      "outputs": [
        {
          "data": {
            "text/plain": [
              "'sudh kumar '"
            ]
          },
          "execution_count": 49,
          "metadata": {},
          "output_type": "execute_result"
        }
      ],
      "source": [
        "\"sudh\"  + \" kumar \""
      ]
    },
    {
      "cell_type": "code",
      "execution_count": null,
      "metadata": {
        "id": "CB6-qXXnYFW_",
        "outputId": "2c4dc8cd-6967-42c4-9b3a-8f5c01f9b1dd"
      },
      "outputs": [
        {
          "data": {
            "text/plain": [
              "'sudh3'"
            ]
          },
          "execution_count": 52,
          "metadata": {},
          "output_type": "execute_result"
        }
      ],
      "source": [
        "\"sudh\" + str(3) "
      ]
    },
    {
      "cell_type": "code",
      "execution_count": null,
      "metadata": {
        "id": "1dMcLHxwYFW_",
        "outputId": "86035988-7ebe-4bfa-af28-37fc1cf93bcd"
      },
      "outputs": [
        {
          "ename": "TypeError",
          "evalue": "can only concatenate str (not \"list\") to str",
          "output_type": "error",
          "traceback": [
            "\u001b[1;31m---------------------------------------------------------------------------\u001b[0m",
            "\u001b[1;31mTypeError\u001b[0m                                 Traceback (most recent call last)",
            "\u001b[1;32m<ipython-input-53-540e0b0cba6f>\u001b[0m in \u001b[0;36m<module>\u001b[1;34m\u001b[0m\n\u001b[1;32m----> 1\u001b[1;33m \u001b[1;34m\"sudh\"\u001b[0m \u001b[1;33m+\u001b[0m \u001b[1;33m[\u001b[0m\u001b[1;34m\"kumar\"\u001b[0m \u001b[1;33m,\u001b[0m \u001b[1;36m3\u001b[0m\u001b[1;33m,\u001b[0m\u001b[1;36m4\u001b[0m\u001b[1;33m,\u001b[0m\u001b[1;36m56\u001b[0m\u001b[1;33m]\u001b[0m\u001b[1;33m\u001b[0m\u001b[1;33m\u001b[0m\u001b[0m\n\u001b[0m",
            "\u001b[1;31mTypeError\u001b[0m: can only concatenate str (not \"list\") to str"
          ]
        }
      ],
      "source": [
        "\"sudh\" + [\"kumar\" , 3,4,56]"
      ]
    },
    {
      "cell_type": "code",
      "execution_count": null,
      "metadata": {
        "id": "GTkk82ZZYFXA",
        "outputId": "79d62beb-504b-4d02-c81b-04df99252c73"
      },
      "outputs": [
        {
          "data": {
            "text/plain": [
              "'sudh sudh sudh sudh sudh sudh '"
            ]
          },
          "execution_count": 55,
          "metadata": {},
          "output_type": "execute_result"
        }
      ],
      "source": [
        "\"sudh \" * 6"
      ]
    },
    {
      "cell_type": "code",
      "execution_count": null,
      "metadata": {
        "id": "NOw7aWDwYFXB"
      },
      "outputs": [],
      "source": [
        "s = \"my name is sudhanshu kumar , Name of org is ineuron\""
      ]
    },
    {
      "cell_type": "code",
      "execution_count": null,
      "metadata": {
        "id": "o-PPitJfYFXB",
        "outputId": "41fb265f-6409-4381-dbb4-cabb0610ad75"
      },
      "outputs": [
        {
          "data": {
            "text/plain": [
              "'my name is '"
            ]
          },
          "execution_count": 57,
          "metadata": {},
          "output_type": "execute_result"
        }
      ],
      "source": [
        "s"
      ]
    },
    {
      "cell_type": "code",
      "execution_count": null,
      "metadata": {
        "id": "dpx01o06YFXC",
        "outputId": "beb5aa71-3f2b-4731-abde-1b715a7f5bee"
      },
      "outputs": [
        {
          "data": {
            "text/plain": [
              "3"
            ]
          },
          "execution_count": 62,
          "metadata": {},
          "output_type": "execute_result"
        }
      ],
      "source": [
        "s.find(\"name\")"
      ]
    },
    {
      "cell_type": "code",
      "execution_count": null,
      "metadata": {
        "id": "BDTzCx_DYFXC",
        "outputId": "bc2f99c5-d01b-407a-b55f-7526e1b5841f"
      },
      "outputs": [
        {
          "name": "stdout",
          "output_type": "stream",
          "text": [
            "3\n",
            "4\n",
            "5\n",
            "6\n"
          ]
        }
      ],
      "source": [
        "b = s.find(\"name\")\n",
        "for i in range(len(\"name\")):\n",
        "    print(b + i)\n"
      ]
    },
    {
      "cell_type": "code",
      "execution_count": null,
      "metadata": {
        "id": "tJ6XtV5jYFXD",
        "outputId": "1b4db4d8-2c38-46dc-cf3a-375d08b64842"
      },
      "outputs": [
        {
          "data": {
            "text/plain": [
              "'my name is sudhanshu kumar , Name of org is ineuron'"
            ]
          },
          "execution_count": 71,
          "metadata": {},
          "output_type": "execute_result"
        }
      ],
      "source": [
        "s"
      ]
    },
    {
      "cell_type": "code",
      "execution_count": null,
      "metadata": {
        "id": "wJ3KHveVYFXD",
        "outputId": "5c64662a-b879-48ae-b712-3fc0b112a611"
      },
      "outputs": [
        {
          "data": {
            "text/plain": [
              "1"
            ]
          },
          "execution_count": 72,
          "metadata": {},
          "output_type": "execute_result"
        }
      ],
      "source": [
        "s.count(\"name\")"
      ]
    },
    {
      "cell_type": "code",
      "execution_count": null,
      "metadata": {
        "id": "5pVsgrLCYFXE",
        "outputId": "de1bbf8c-af39-42f6-c77d-ab087bf1009b"
      },
      "outputs": [
        {
          "data": {
            "text/plain": [
              "'my name is sudhanshu kumar , Name of org is ineuron'"
            ]
          },
          "execution_count": 73,
          "metadata": {},
          "output_type": "execute_result"
        }
      ],
      "source": [
        "s "
      ]
    },
    {
      "cell_type": "code",
      "execution_count": null,
      "metadata": {
        "id": "62mZlcpwYFXF",
        "outputId": "67debb51-7aeb-46e5-ced3-4551ce4a769f"
      },
      "outputs": [
        {
          "data": {
            "text/plain": [
              "['my',\n",
              " 'name',\n",
              " 'is',\n",
              " 'sudhanshu',\n",
              " 'kumar',\n",
              " ',',\n",
              " 'Name',\n",
              " 'of',\n",
              " 'org',\n",
              " 'is',\n",
              " 'ineuron']"
            ]
          },
          "execution_count": 74,
          "metadata": {},
          "output_type": "execute_result"
        }
      ],
      "source": [
        "s.split()"
      ]
    },
    {
      "cell_type": "code",
      "execution_count": null,
      "metadata": {
        "id": "iXR9hPL3YFXF",
        "outputId": "02941cae-05e0-4f1f-f75d-b349887c04a1"
      },
      "outputs": [
        {
          "data": {
            "text/plain": [
              "list"
            ]
          },
          "execution_count": 78,
          "metadata": {},
          "output_type": "execute_result"
        }
      ],
      "source": [
        "type(s.split('na'))"
      ]
    },
    {
      "cell_type": "code",
      "execution_count": null,
      "metadata": {
        "id": "06l5BaYmYFXG",
        "outputId": "3dd48075-01ea-4a97-c76e-478a1a45874d"
      },
      "outputs": [
        {
          "data": {
            "text/plain": [
              "'my name is sudhanshu kumar , Name of org is ineuron'"
            ]
          },
          "execution_count": 80,
          "metadata": {},
          "output_type": "execute_result"
        }
      ],
      "source": [
        "s "
      ]
    },
    {
      "cell_type": "code",
      "execution_count": null,
      "metadata": {
        "id": "i2Sqi46PYFXG",
        "outputId": "9c5cfef6-fd1e-49da-bd24-3c0dd8c7cf28"
      },
      "outputs": [
        {
          "data": {
            "text/plain": [
              "'MY NAME IS SUDHANSHU KUMAR , NAME OF ORG IS INEURON'"
            ]
          },
          "execution_count": 81,
          "metadata": {},
          "output_type": "execute_result"
        }
      ],
      "source": [
        "s.upper()"
      ]
    },
    {
      "cell_type": "code",
      "execution_count": null,
      "metadata": {
        "id": "zDpfrozaYFXH",
        "outputId": "ff1657b0-4efb-4ecf-f357-aed0d40acba0"
      },
      "outputs": [
        {
          "data": {
            "text/plain": [
              "'my name is sudhanshu kumar , name of org is ineuron'"
            ]
          },
          "execution_count": 82,
          "metadata": {},
          "output_type": "execute_result"
        }
      ],
      "source": [
        "s.lower()"
      ]
    },
    {
      "cell_type": "code",
      "execution_count": null,
      "metadata": {
        "id": "XZ6tYU8bYFXH",
        "outputId": "38635cb7-a460-4cac-aa1f-8b47d0b50f80"
      },
      "outputs": [
        {
          "data": {
            "text/plain": [
              "'MY NAME IS SUDHANSHU KUMAR , nAME OF ORG IS INEURON'"
            ]
          },
          "execution_count": 83,
          "metadata": {},
          "output_type": "execute_result"
        }
      ],
      "source": [
        "s.swapcase()"
      ]
    },
    {
      "cell_type": "code",
      "execution_count": null,
      "metadata": {
        "id": "l65zClSfYFXI",
        "outputId": "0881bfb4-1fec-4312-9c7c-80e52ed976bc"
      },
      "outputs": [
        {
          "data": {
            "text/plain": [
              "'m y   n a m e   i s   s u d h a n s h u   k u m a r   ,   N a m e   o f   o r g   i s   i n e u r o n'"
            ]
          },
          "execution_count": 89,
          "metadata": {},
          "output_type": "execute_result"
        }
      ],
      "source": [
        "\" \". join(s)"
      ]
    },
    {
      "cell_type": "code",
      "execution_count": null,
      "metadata": {
        "id": "hHQeZoYhYFXI",
        "outputId": "b536a8ab-fb3b-4098-c71d-019584d8178c"
      },
      "outputs": [
        {
          "data": {
            "text/plain": [
              "<reversed at 0x24005b21700>"
            ]
          },
          "execution_count": 94,
          "metadata": {},
          "output_type": "execute_result"
        }
      ],
      "source": [
        "reversed(s)"
      ]
    },
    {
      "cell_type": "code",
      "execution_count": null,
      "metadata": {
        "id": "YWDbPJZJYFXJ",
        "outputId": "d96e2ea3-894d-4527-b16d-3329bd98c972"
      },
      "outputs": [
        {
          "name": "stdout",
          "output_type": "stream",
          "text": [
            "n\n",
            "o\n",
            "r\n",
            "u\n",
            "e\n",
            "n\n",
            "i\n",
            " \n",
            "s\n",
            "i\n",
            " \n",
            "g\n",
            "r\n",
            "o\n",
            " \n",
            "f\n",
            "o\n",
            " \n",
            "e\n",
            "m\n",
            "a\n",
            "N\n",
            " \n",
            ",\n",
            " \n",
            "r\n",
            "a\n",
            "m\n",
            "u\n",
            "k\n",
            " \n",
            "u\n",
            "h\n",
            "s\n",
            "n\n",
            "a\n",
            "h\n",
            "d\n",
            "u\n",
            "s\n",
            " \n",
            "s\n",
            "i\n",
            " \n",
            "e\n",
            "m\n",
            "a\n",
            "n\n",
            " \n",
            "y\n",
            "m\n"
          ]
        }
      ],
      "source": [
        "for i in reversed(s):\n",
        "    print(i)"
      ]
    },
    {
      "cell_type": "code",
      "execution_count": null,
      "metadata": {
        "id": "sTLBg5LVYFXJ",
        "outputId": "2696865d-d77d-43c7-dbee-52d114343e49"
      },
      "outputs": [
        {
          "data": {
            "text/plain": [
              "'norueni si gro fo emaN , ramuk uhsnahdus si eman ym'"
            ]
          },
          "execution_count": 91,
          "metadata": {},
          "output_type": "execute_result"
        }
      ],
      "source": [
        "s[::-1]"
      ]
    },
    {
      "cell_type": "code",
      "execution_count": null,
      "metadata": {
        "id": "4JVB79wTYFXK"
      },
      "outputs": [],
      "source": [
        "s = \"       su  dh \""
      ]
    },
    {
      "cell_type": "code",
      "execution_count": null,
      "metadata": {
        "id": "xhsIGQlYYFXK",
        "outputId": "acf404cb-5b13-4f72-c3e8-f9b1362bccd2"
      },
      "outputs": [
        {
          "data": {
            "text/plain": [
              "'       su  dh '"
            ]
          },
          "execution_count": 101,
          "metadata": {},
          "output_type": "execute_result"
        }
      ],
      "source": [
        "s"
      ]
    },
    {
      "cell_type": "code",
      "execution_count": null,
      "metadata": {
        "id": "k-UtvIs_YFXL",
        "outputId": "e7d6fd88-9413-4b5a-8071-a6642fa0518b"
      },
      "outputs": [
        {
          "data": {
            "text/plain": [
              "'su  dh'"
            ]
          },
          "execution_count": 102,
          "metadata": {},
          "output_type": "execute_result"
        }
      ],
      "source": [
        "s.strip()"
      ]
    },
    {
      "cell_type": "code",
      "execution_count": null,
      "metadata": {
        "id": "2jE_Se5-YFXL",
        "outputId": "6eb98e55-18af-43f8-d50b-680308ac2813"
      },
      "outputs": [
        {
          "data": {
            "text/plain": [
              "'su  dh '"
            ]
          },
          "execution_count": 103,
          "metadata": {},
          "output_type": "execute_result"
        }
      ],
      "source": [
        "s.lstrip()"
      ]
    },
    {
      "cell_type": "code",
      "execution_count": null,
      "metadata": {
        "id": "xnm7LZovYFXM",
        "outputId": "687209a9-e714-4d77-91b6-56185862390a"
      },
      "outputs": [
        {
          "data": {
            "text/plain": [
              "'       su  dh'"
            ]
          },
          "execution_count": 104,
          "metadata": {},
          "output_type": "execute_result"
        }
      ],
      "source": [
        "s.rstrip()"
      ]
    },
    {
      "cell_type": "code",
      "execution_count": null,
      "metadata": {
        "id": "l5URyC6nYFXM"
      },
      "outputs": [],
      "source": [
        "s = \"greeting from ineuron\""
      ]
    },
    {
      "cell_type": "code",
      "execution_count": null,
      "metadata": {
        "id": "kWffvib1YFXN",
        "outputId": "908b41eb-3e58-42e0-a294-d3d2c3d52155"
      },
      "outputs": [
        {
          "data": {
            "text/plain": [
              "'swereeting from ineuron'"
            ]
          },
          "execution_count": 108,
          "metadata": {},
          "output_type": "execute_result"
        }
      ],
      "source": [
        "s = s.replace(\"gr\" , 'swer')"
      ]
    },
    {
      "cell_type": "code",
      "execution_count": null,
      "metadata": {
        "id": "lUgj42G5YFXN",
        "outputId": "003a4dd5-0dd5-4c46-c1c2-7fd1d20254cb"
      },
      "outputs": [
        {
          "data": {
            "text/plain": [
              "'greeting from ineuron'"
            ]
          },
          "execution_count": 109,
          "metadata": {},
          "output_type": "execute_result"
        }
      ],
      "source": [
        "s"
      ]
    },
    {
      "cell_type": "code",
      "execution_count": null,
      "metadata": {
        "id": "uc5XVJYkYFXO"
      },
      "outputs": [],
      "source": [
        "s = \"sudh\""
      ]
    },
    {
      "cell_type": "code",
      "execution_count": null,
      "metadata": {
        "id": "MNpRybpJYFXO"
      },
      "outputs": [],
      "source": [
        "s = s.replace(\"u\" , \"kumar\")"
      ]
    },
    {
      "cell_type": "code",
      "execution_count": null,
      "metadata": {
        "id": "wT1H518-YFXO",
        "outputId": "f0d83abf-588b-4c55-9451-9c105e523f63"
      },
      "outputs": [
        {
          "data": {
            "text/plain": [
              "'skumardh'"
            ]
          },
          "execution_count": 118,
          "metadata": {},
          "output_type": "execute_result"
        }
      ],
      "source": [
        "s"
      ]
    },
    {
      "cell_type": "code",
      "execution_count": null,
      "metadata": {
        "id": "UrqhvsA5YFXP",
        "outputId": "ab21c6af-0f74-4429-ec9e-e99c78955463"
      },
      "outputs": [
        {
          "ename": "TypeError",
          "evalue": "'str' object does not support item assignment",
          "output_type": "error",
          "traceback": [
            "\u001b[1;31m---------------------------------------------------------------------------\u001b[0m",
            "\u001b[1;31mTypeError\u001b[0m                                 Traceback (most recent call last)",
            "\u001b[1;32m<ipython-input-114-45b9a7bdbadb>\u001b[0m in \u001b[0;36m<module>\u001b[1;34m\u001b[0m\n\u001b[1;32m----> 1\u001b[1;33m \u001b[0ms\u001b[0m\u001b[1;33m[\u001b[0m\u001b[1;36m1\u001b[0m\u001b[1;33m]\u001b[0m \u001b[1;33m=\u001b[0m \u001b[1;34m\"kumar\"\u001b[0m\u001b[1;33m\u001b[0m\u001b[1;33m\u001b[0m\u001b[0m\n\u001b[0m",
            "\u001b[1;31mTypeError\u001b[0m: 'str' object does not support item assignment"
          ]
        }
      ],
      "source": [
        "s[1] = \"kumar\""
      ]
    },
    {
      "cell_type": "code",
      "execution_count": null,
      "metadata": {
        "id": "vxv0j-cYYFXP"
      },
      "outputs": [],
      "source": [
        "s = \"sudh\""
      ]
    },
    {
      "cell_type": "code",
      "execution_count": null,
      "metadata": {
        "id": "EF8jEYcLYFXQ",
        "outputId": "eeeb3102-67f7-4ada-cddb-56e7e7b6e5ca"
      },
      "outputs": [
        {
          "data": {
            "text/plain": [
              "'@@@@@@@@@@sudh@@@@@@@@@'"
            ]
          },
          "execution_count": 125,
          "metadata": {},
          "output_type": "execute_result"
        }
      ],
      "source": [
        "s.center(23 , '@')"
      ]
    },
    {
      "cell_type": "code",
      "execution_count": null,
      "metadata": {
        "id": "Y5Z4Kc1AYFXQ"
      },
      "outputs": [],
      "source": [
        "s = \"sudh\\tku\\tmar\""
      ]
    },
    {
      "cell_type": "code",
      "execution_count": null,
      "metadata": {
        "id": "t3edNZoEYFXR",
        "outputId": "6b641945-7cf5-4288-9287-2a653424de79"
      },
      "outputs": [
        {
          "data": {
            "text/plain": [
              "'sudh\\tku\\tmar'"
            ]
          },
          "execution_count": 130,
          "metadata": {},
          "output_type": "execute_result"
        }
      ],
      "source": [
        "s"
      ]
    },
    {
      "cell_type": "code",
      "execution_count": null,
      "metadata": {
        "id": "XFUnmFkNYFXR",
        "outputId": "77adef4d-eb94-4edb-f8c3-68eef5a47b2e"
      },
      "outputs": [
        {
          "data": {
            "text/plain": [
              "'sudh    ku      mar'"
            ]
          },
          "execution_count": 131,
          "metadata": {},
          "output_type": "execute_result"
        }
      ],
      "source": [
        "s.expandtabs()"
      ]
    },
    {
      "cell_type": "code",
      "execution_count": null,
      "metadata": {
        "id": "V1hTofUeYFXS",
        "outputId": "3be318c1-5d6e-4981-eda3-9861d920b033"
      },
      "outputs": [
        {
          "name": "stdout",
          "output_type": "stream",
          "text": [
            "we all are a part of full stack\n"
          ]
        },
        {
          "ename": "TypeError",
          "evalue": "'str' object is not callable",
          "output_type": "error",
          "traceback": [
            "\u001b[1;31m---------------------------------------------------------------------------\u001b[0m",
            "\u001b[1;31mTypeError\u001b[0m                                 Traceback (most recent call last)",
            "\u001b[1;32m<ipython-input-138-5af18a1d8bea>\u001b[0m in \u001b[0;36m<module>\u001b[1;34m\u001b[0m\n\u001b[0;32m      3\u001b[0m \u001b[0mprint\u001b[0m\u001b[1;33m(\u001b[0m\u001b[0ma\u001b[0m\u001b[1;33m)\u001b[0m\u001b[1;33m\u001b[0m\u001b[1;33m\u001b[0m\u001b[0m\n\u001b[0;32m      4\u001b[0m \u001b[0mb\u001b[0m \u001b[1;33m=\u001b[0m \u001b[0ma\u001b[0m\u001b[1;33m.\u001b[0m\u001b[0mcount\u001b[0m\u001b[1;33m(\u001b[0m\u001b[1;34m\"a\"\u001b[0m\u001b[1;33m)\u001b[0m\u001b[1;33m\u001b[0m\u001b[1;33m\u001b[0m\u001b[0m\n\u001b[1;32m----> 5\u001b[1;33m \u001b[0mprint\u001b[0m\u001b[1;33m(\u001b[0m\u001b[1;34m\"number of a: \"\u001b[0m\u001b[1;33m+\u001b[0m\u001b[0mstr\u001b[0m\u001b[1;33m(\u001b[0m\u001b[0mb\u001b[0m\u001b[1;33m)\u001b[0m\u001b[1;33m)\u001b[0m\u001b[1;33m\u001b[0m\u001b[1;33m\u001b[0m\u001b[0m\n\u001b[0m\u001b[0;32m      6\u001b[0m \u001b[1;32mfor\u001b[0m \u001b[0mi\u001b[0m \u001b[1;32min\u001b[0m \u001b[0mrange\u001b[0m\u001b[1;33m(\u001b[0m\u001b[0mlen\u001b[0m\u001b[1;33m(\u001b[0m\u001b[0ma\u001b[0m\u001b[1;33m)\u001b[0m\u001b[1;33m)\u001b[0m\u001b[1;33m:\u001b[0m\u001b[1;33m\u001b[0m\u001b[1;33m\u001b[0m\u001b[0m\n\u001b[0;32m      7\u001b[0m   \u001b[1;32mif\u001b[0m \u001b[0ma\u001b[0m\u001b[1;33m[\u001b[0m\u001b[0mi\u001b[0m\u001b[1;33m]\u001b[0m \u001b[1;33m==\u001b[0m \u001b[1;34m\"a\"\u001b[0m\u001b[1;33m:\u001b[0m\u001b[1;33m\u001b[0m\u001b[1;33m\u001b[0m\u001b[0m\n",
            "\u001b[1;31mTypeError\u001b[0m: 'str' object is not callable"
          ]
        }
      ],
      "source": [
        ""
      ]
    },
    {
      "cell_type": "code",
      "execution_count": null,
      "metadata": {
        "id": "nOH7EFwpYFXS",
        "outputId": "d1e8ae32-b467-4cf8-86bf-7cdf8293eca5"
      },
      "outputs": [
        {
          "data": {
            "text/plain": [
              "'we all are a part of full stack'"
            ]
          },
          "execution_count": 142,
          "metadata": {},
          "output_type": "execute_result"
        }
      ],
      "source": [
        "a=\"We all are a part of Full Stack\"\n",
        "b=a.lower()\n",
        "b"
      ]
    },
    {
      "cell_type": "code",
      "execution_count": null,
      "metadata": {
        "id": "6S3skeXfYFXT",
        "outputId": "d280f132-5c22-451d-c2ac-83c54443be9c"
      },
      "outputs": [
        {
          "data": {
            "text/plain": [
              "5"
            ]
          },
          "execution_count": 144,
          "metadata": {},
          "output_type": "execute_result"
        }
      ],
      "source": [
        "c=a.count(\"a\")\n",
        "c"
      ]
    },
    {
      "cell_type": "code",
      "execution_count": null,
      "metadata": {
        "id": "TiCAInHfYFXT",
        "outputId": "a4309581-82ff-46aa-db65-f13f69fd0194"
      },
      "outputs": [
        {
          "name": "stdout",
          "output_type": "stream",
          "text": [
            "3\n",
            "7\n",
            "11\n",
            "14\n",
            "28\n"
          ]
        }
      ],
      "source": [
        "for i in range(len(a)):\n",
        "    if(a[i]==\"a\"):\n",
        "        print(i)"
      ]
    },
    {
      "cell_type": "code",
      "execution_count": null,
      "metadata": {
        "id": "SB_W7zEcYFXU",
        "outputId": "13ebd258-1668-4545-f24f-f03bef28f138"
      },
      "outputs": [
        {
          "data": {
            "text/plain": [
              "'We iNeuronll iNeuronre iNeuron piNeuronrt of Full StiNeuronck'"
            ]
          },
          "execution_count": 147,
          "metadata": {},
          "output_type": "execute_result"
        }
      ],
      "source": [
        "d=a.replace(\"a\",\"iNeuron\")\n",
        "d"
      ]
    },
    {
      "cell_type": "code",
      "execution_count": null,
      "metadata": {
        "id": "5hTMV971YFXU",
        "outputId": "00b6d952-ae05-480a-84ed-b3e2c2675fdb"
      },
      "outputs": [
        {
          "name": "stdout",
          "output_type": "stream",
          "text": [
            "['We', 'all', 'are', 'a', 'part', 'of', 'Full', 'Stack']\n"
          ]
        }
      ],
      "source": [
        "e=a.split()\n",
        "print(e)"
      ]
    },
    {
      "cell_type": "code",
      "execution_count": null,
      "metadata": {
        "id": "31D7em2DYFXV",
        "outputId": "b1d4b9b3-00b6-4a07-dbe7-4f52bd09f2e3"
      },
      "outputs": [
        {
          "name": "stdout",
          "output_type": "stream",
          "text": [
            "we all are a part of full stack\n",
            "The count of a is  5\n",
            "3\n",
            "7\n",
            "11\n",
            "14\n",
            "28\n",
            "We iNeuronll iNeuronre iNeuron piNeuronrt of Full StiNeuronck\n",
            "['We', 'all', 'are', 'a', 'part', 'of', 'Full', 'Stack']\n"
          ]
        }
      ],
      "source": [
        "a=\"We all are a part of Full Stack\"\n",
        "b=a.lower()\n",
        "print(b)\n",
        "c=a.count(\"a\")\n",
        "print(\"The count of a is \",c)\n",
        "for i in range(len(a)):\n",
        "    if(a[i]==\"a\"):\n",
        "        print(i)\n",
        "d=a.replace(\"a\",\"iNeuron\")\n",
        "print(d)\n",
        "e=a.split()\n",
        "print(e)\n"
      ]
    },
    {
      "cell_type": "code",
      "execution_count": null,
      "metadata": {
        "id": "Rfw4F5oVYFXV",
        "outputId": "cb0cdecf-3376-433f-958d-971fedae8697"
      },
      "outputs": [
        {
          "name": "stdout",
          "output_type": "stream",
          "text": [
            "we are all part of full stack\n",
            "4\n",
            "[3, 7, 12, 26]\n",
            "We Ineuronre Ineuronll pIneuronrt of Full StIneuronck\n",
            "['We', 'are', 'all', 'part', 'of', 'Full', 'Stack']\n"
          ]
        }
      ],
      "source": [
        "a = \"We are all part of Full Stack\"\n",
        "\n",
        "# 1. Normalizing entire string in lower case\n",
        "print(a.lower())\n",
        "# 2. Finding number of occurances of a in entire string\n",
        "print(len([i for i in range(len(a)) if a[i] == 'a']))\n",
        "# 3. Indexes where a is present \n",
        "print([i for i in range(len(a)) if a[i] == 'a'])  \n",
        "# 4 . replace all a's with ineuron\n",
        "print(a.replace('a','Ineuron'))\n",
        "#5. print all the words as a list\n",
        "print([i for i in a.split() ])\n"
      ]
    },
    {
      "cell_type": "code",
      "execution_count": null,
      "metadata": {
        "id": "u31GpJ59YFXW",
        "outputId": "6166b26f-9202-4783-a9b1-7bb5deb347a2"
      },
      "outputs": [
        {
          "name": "stdout",
          "output_type": "stream",
          "text": [
            "lower : we are part of full stack\n",
            "Count of a : 3\n",
            "3\n",
            "8\n",
            "22\n",
            "Replace a with iNeuron : We iNeuronre PiNeuronrt of Full StiNeuronck\n"
          ]
        }
      ],
      "source": [
        "a='We are Part of Full Stack'\n",
        "b=a.lower()\n",
        "print('lower :',b)\n",
        "c=a.count('a')\n",
        "print('Count of a :',c)\n",
        "for i in range(1,25):\n",
        "    if a[i]== 'a':\n",
        "        print(i)\n",
        "str=a.replace('a','iNeuron')\n",
        "print('Replace a with iNeuron :',str)\n"
      ]
    },
    {
      "cell_type": "code",
      "execution_count": null,
      "metadata": {
        "id": "W64u04yCYFXX",
        "outputId": "df927bab-9bf5-44d1-f587-2c0146ab6ace"
      },
      "outputs": [
        {
          "name": "stdout",
          "output_type": "stream",
          "text": [
            "count of a= 5\n"
          ]
        }
      ],
      "source": [
        "a=\"we all are a part of Full Stack\"\n",
        "a=a.lower()\n",
        "c=a.count(\"a\")\n",
        "print(\"count of a=\",c)"
      ]
    },
    {
      "cell_type": "code",
      "execution_count": null,
      "metadata": {
        "id": "12RXyAyHYFXY",
        "outputId": "95aa89c9-0ec7-475f-8363-07034cbb80ce"
      },
      "outputs": [
        {
          "name": "stdout",
          "output_type": "stream",
          "text": [
            "count of a= 5\n",
            "all indexes of 'a': [3, 7, 11, 14, 28]\n"
          ]
        }
      ],
      "source": [
        "a=\"we all are a part of Full Stack\"\n",
        "a=a.lower()\n",
        "c=a.count(\"a\")\n",
        "print(\"count of a=\",c)\n",
        "l=[]\n",
        "for e in range(len(a)):\n",
        "    if a[e]==\"a\":\n",
        "        l.append(e)\n",
        "print(\"all indexes of 'a':\",l)                                                                   "
      ]
    },
    {
      "cell_type": "code",
      "execution_count": null,
      "metadata": {
        "id": "v0FD_PnvYFXY",
        "outputId": "1435eeff-1699-401f-9949-9b82bb4af778"
      },
      "outputs": [
        {
          "data": {
            "text/plain": [
              "['we',\n",
              " 'iNeuronll',\n",
              " 'iNeuronre',\n",
              " 'iNeuron',\n",
              " 'piNeuronrt',\n",
              " 'of',\n",
              " 'full',\n",
              " 'stiNeuronck']"
            ]
          },
          "execution_count": 159,
          "metadata": {},
          "output_type": "execute_result"
        }
      ],
      "source": [
        "a=a.replace(\"a\",\"iNeuron\")    \n",
        "a.split() "
      ]
    },
    {
      "cell_type": "code",
      "execution_count": null,
      "metadata": {
        "id": "sS03RQ8bYFXZ",
        "outputId": "6572366b-40cd-4efc-fb65-1abe0a80e666"
      },
      "outputs": [
        {
          "name": "stdout",
          "output_type": "stream",
          "text": [
            "The count of a is we all are a part of full stack\n",
            "Indexs of a [3, 7, 11, 14, 28]\n",
            "we ineuronll ineuronre ineuron pineuronrt of full stineuronck\n"
          ]
        },
        {
          "data": {
            "text/plain": [
              "['we',\n",
              " 'ineuronll',\n",
              " 'ineuronre',\n",
              " 'ineuron',\n",
              " 'pineuronrt',\n",
              " 'of',\n",
              " 'full',\n",
              " 'stineuronck']"
            ]
          },
          "execution_count": 160,
          "metadata": {},
          "output_type": "execute_result"
        }
      ],
      "source": [
        "a = \"we all are a part of Full Stack\"\n",
        "a = a.lower()\n",
        "count_a = a.count('a')\n",
        "print(\"The count of a is\",a)\n",
        "index_a=[]\n",
        "for i in range(len(a)):\n",
        "    if(a[i]=='a'):\n",
        "        index_a.append(i)\n",
        "print(\"Indexs of a\",index_a)\n",
        "for i in range(len(a)):\n",
        "    if(a[i]=='a'):\n",
        "        a=a.replace('a','ineuron')\n",
        "        print(a)\n",
        "        \n",
        "a.split()\n"
      ]
    },
    {
      "cell_type": "code",
      "execution_count": null,
      "metadata": {
        "id": "Xl_XQZheYFXZ"
      },
      "outputs": [],
      "source": [
        "s = \"Fds\""
      ]
    },
    {
      "cell_type": "code",
      "execution_count": null,
      "metadata": {
        "id": "wEviUp7dYFXa",
        "outputId": "a89dfd1c-b5c7-4e16-9157-a5fe7ca1da3a"
      },
      "outputs": [
        {
          "data": {
            "text/plain": [
              "False"
            ]
          },
          "execution_count": 181,
          "metadata": {},
          "output_type": "execute_result"
        }
      ],
      "source": [
        "s.isupper()"
      ]
    },
    {
      "cell_type": "code",
      "execution_count": null,
      "metadata": {
        "id": "6A8dLvlZYFXa",
        "outputId": "98d736e2-77bf-4adc-d348-94a56186defc"
      },
      "outputs": [
        {
          "data": {
            "text/plain": [
              "True"
            ]
          },
          "execution_count": 182,
          "metadata": {},
          "output_type": "execute_result"
        }
      ],
      "source": [
        "s.islower()"
      ]
    },
    {
      "cell_type": "code",
      "execution_count": null,
      "metadata": {
        "id": "NCCzsKBxYFXb",
        "outputId": "fc4efb18-63d0-444c-8cca-b99682d6bb01"
      },
      "outputs": [
        {
          "data": {
            "text/plain": [
              "False"
            ]
          },
          "execution_count": 183,
          "metadata": {},
          "output_type": "execute_result"
        }
      ],
      "source": [
        "s.isspace()"
      ]
    },
    {
      "cell_type": "code",
      "execution_count": null,
      "metadata": {
        "id": "O9jnsCKpYFXb",
        "outputId": "dcd4aa8d-deb7-4e1b-ff4b-a86fcd2837e5"
      },
      "outputs": [
        {
          "data": {
            "text/plain": [
              "True"
            ]
          },
          "execution_count": 186,
          "metadata": {},
          "output_type": "execute_result"
        }
      ],
      "source": [
        "s.isdigit()"
      ]
    },
    {
      "cell_type": "code",
      "execution_count": null,
      "metadata": {
        "id": "3XcWgyfvYFXc",
        "outputId": "be10e410-6663-4333-c3fc-a7e6b3943b1f"
      },
      "outputs": [
        {
          "data": {
            "text/plain": [
              "True"
            ]
          },
          "execution_count": 189,
          "metadata": {},
          "output_type": "execute_result"
        }
      ],
      "source": [
        "s.endswith('s')"
      ]
    },
    {
      "cell_type": "code",
      "execution_count": null,
      "metadata": {
        "id": "zEJohgbnYFXc",
        "outputId": "afcfa099-e53c-444d-ecc4-255c13bec940"
      },
      "outputs": [
        {
          "data": {
            "text/plain": [
              "True"
            ]
          },
          "execution_count": 192,
          "metadata": {},
          "output_type": "execute_result"
        }
      ],
      "source": [
        "s.startswith(\"s\")"
      ]
    },
    {
      "cell_type": "code",
      "execution_count": null,
      "metadata": {
        "id": "8TF81UsZYFXd",
        "outputId": "16aba1d0-01b8-4e57-b46b-f94a83d4f765"
      },
      "outputs": [
        {
          "data": {
            "text/plain": [
              "True"
            ]
          },
          "execution_count": 202,
          "metadata": {},
          "output_type": "execute_result"
        }
      ],
      "source": [
        "s.isalnum()"
      ]
    },
    {
      "cell_type": "code",
      "execution_count": null,
      "metadata": {
        "id": "_QBzrzDIYFXd",
        "outputId": "a2a83a6a-1be5-41a0-86a3-704fd21aede9"
      },
      "outputs": [
        {
          "data": {
            "text/plain": [
              "True"
            ]
          },
          "execution_count": 205,
          "metadata": {},
          "output_type": "execute_result"
        }
      ],
      "source": [
        "s.isalpha()"
      ]
    },
    {
      "cell_type": "code",
      "execution_count": null,
      "metadata": {
        "id": "2C-D2-o8YFXe",
        "outputId": "112734ff-b020-42ee-9476-3a9215e72de1"
      },
      "outputs": [
        {
          "data": {
            "text/plain": [
              "True"
            ]
          },
          "execution_count": 208,
          "metadata": {},
          "output_type": "execute_result"
        }
      ],
      "source": [
        "s.istitle()"
      ]
    },
    {
      "cell_type": "code",
      "execution_count": null,
      "metadata": {
        "id": "bF1Oi6-9YFXe",
        "outputId": "a397b1b7-71c0-4c48-cf45-9c66e7ba2de2"
      },
      "outputs": [
        {
          "data": {
            "text/plain": [
              "26"
            ]
          },
          "execution_count": 211,
          "metadata": {},
          "output_type": "execute_result"
        }
      ],
      "source": [
        "len(s)"
      ]
    },
    {
      "cell_type": "code",
      "execution_count": null,
      "metadata": {
        "id": "gStCAYCgYFXf"
      },
      "outputs": [],
      "source": [
        "s = \"this is a full stack batch\""
      ]
    },
    {
      "cell_type": "code",
      "execution_count": null,
      "metadata": {
        "id": "ZSXOMXPYYFXf",
        "outputId": "f597bcfa-58b1-47c5-89d5-fbdb7790cfca"
      },
      "outputs": [
        {
          "name": "stdout",
          "output_type": "stream",
          "text": [
            "26\n"
          ]
        }
      ],
      "source": [
        "count = 0 \n",
        "for i in  s :\n",
        "    count = count +1 \n",
        "print(count)"
      ]
    },
    {
      "cell_type": "code",
      "execution_count": null,
      "metadata": {
        "id": "n2etR4z-YFXg",
        "outputId": "1d10e47d-9e14-4ab1-99f4-fc9de92b3d2d"
      },
      "outputs": [
        {
          "name": "stdout",
          "output_type": "stream",
          "text": [
            "h\n",
            "c\n",
            "t\n",
            "a\n",
            "b\n",
            " \n",
            "k\n",
            "c\n",
            "a\n",
            "t\n",
            "s\n",
            " \n",
            "l\n",
            "l\n",
            "u\n",
            "f\n",
            " \n",
            "a\n",
            " \n",
            "s\n",
            "i\n",
            " \n",
            "s\n",
            "i\n",
            "h\n"
          ]
        }
      ],
      "source": [
        "for i in range(1, len(s)) :\n",
        "    print(s[-i])"
      ]
    },
    {
      "cell_type": "code",
      "execution_count": null,
      "metadata": {
        "id": "yB7k25fBYFXg",
        "outputId": "4cbcc019-0a3a-481a-d910-397cc94e695e"
      },
      "outputs": [
        {
          "name": "stdout",
          "output_type": "stream",
          "text": [
            "h\n",
            "d\n",
            "u\n",
            "s\n"
          ]
        }
      ],
      "source": [
        "s = \"sudh\"\n",
        "ch = len(s) -1\n",
        "while ch >= 0 :\n",
        "    print(s[ch])\n",
        "    ch = ch -1 "
      ]
    },
    {
      "cell_type": "code",
      "execution_count": null,
      "metadata": {
        "id": "wCefosNdYFXh",
        "outputId": "c4dbd46a-ed51-4602-ba6d-ac7a1c0515b4"
      },
      "outputs": [
        {
          "name": "stdout",
          "output_type": "stream",
          "text": [
            "i is a vowel\n",
            "n is not a vowel\n",
            "e is a vowel\n",
            "r is not a vowel\n",
            "u is a vowel\n",
            "o is a vowel\n",
            "n is not a vowel\n"
          ]
        }
      ],
      "source": [
        "name = \"ineruon\"\n",
        "vowels = \"AaEeIiOoUu\"\n",
        "\n",
        "for i in name :\n",
        "    if i in vowels:\n",
        "        print(\"{} is a vowel\".format(i))\n",
        "    else :\n",
        "        print(\"{} is not a vowel\".format(i))\n"
      ]
    },
    {
      "cell_type": "code",
      "execution_count": null,
      "metadata": {
        "id": "7Hg6AOibYFXh",
        "outputId": "125d53a4-72e3-4d5e-c6d0-39b6c4421c10"
      },
      "outputs": [
        {
          "data": {
            "text/plain": [
              "' my name is sudh'"
            ]
          },
          "execution_count": 221,
          "metadata": {},
          "output_type": "execute_result"
        }
      ],
      "source": [
        "\" {} name is sudh\".format(\"my\")"
      ]
    },
    {
      "cell_type": "code",
      "execution_count": null,
      "metadata": {
        "id": "OpD7WdSVYFXi",
        "outputId": "ef60a5ea-5986-4a0b-89f3-1c2493f17475"
      },
      "outputs": [
        {
          "name": "stdout",
          "output_type": "stream",
          "text": [
            "fsdfs\n",
            "fsdf\n"
          ]
        }
      ],
      "source": [
        "a = input()\n",
        "b = input()\n"
      ]
    },
    {
      "cell_type": "code",
      "execution_count": null,
      "metadata": {
        "id": "BpfcKQJZYFXi",
        "outputId": "3779ae67-8d65-4976-8403-7c8e2a55a34b"
      },
      "outputs": [
        {
          "data": {
            "text/plain": [
              "'fsdfs name fsdf sudh Fsdfsfs '"
            ]
          },
          "execution_count": 228,
          "metadata": {},
          "output_type": "execute_result"
        }
      ],
      "source": [
        "\"{} name {} sudh {} \".format,(a, b, \"Fsdfsfs\")"
      ]
    },
    {
      "cell_type": "code",
      "execution_count": null,
      "metadata": {
        "id": "PHuWL_MIYFXj"
      },
      "outputs": [],
      "source": [
        "a = \"xyx\"\n",
        "b = 2002\n",
        "c = \"eye\"\n",
        "d = \"nitin\""
      ]
    },
    {
      "cell_type": "code",
      "execution_count": null,
      "metadata": {
        "id": "DEAsla7VYFXj",
        "outputId": "915b9f8c-6b5c-49c5-bdcf-0e14d0594811"
      },
      "outputs": [
        {
          "name": "stdout",
          "output_type": "stream",
          "text": [
            "enter a data for which you would like to check pelindrom sudh\n",
            "its not a same \n"
          ]
        }
      ],
      "source": [
        "s = input(\"enter a data for which you would like to check pelindrom \" )\n",
        "s1 = s[::-1]\n",
        "if s ==s1:\n",
        "    print(\"its a same \")\n",
        "else :\n",
        "    print(\"its not a same \")"
      ]
    },
    {
      "cell_type": "code",
      "execution_count": null,
      "metadata": {
        "id": "g5ftij7xYFXk"
      },
      "outputs": [],
      "source": [
        "l = [\"sudh\" , 34,34,45,[34,45]]"
      ]
    },
    {
      "cell_type": "code",
      "execution_count": null,
      "metadata": {
        "id": "IrOz2h9LYFXp",
        "outputId": "7cad65f9-c109-41d3-aa3b-734c8b12b218"
      },
      "outputs": [
        {
          "data": {
            "text/plain": [
              "45"
            ]
          },
          "execution_count": 236,
          "metadata": {},
          "output_type": "execute_result"
        }
      ],
      "source": [
        "l[3]"
      ]
    },
    {
      "cell_type": "code",
      "execution_count": null,
      "metadata": {
        "id": "XY57Jy7XYFXq",
        "outputId": "980c5b4f-f517-46d4-92a8-fd944eb36d71"
      },
      "outputs": [
        {
          "data": {
            "text/plain": [
              "['sudh', 34, 34]"
            ]
          },
          "execution_count": 237,
          "metadata": {},
          "output_type": "execute_result"
        }
      ],
      "source": [
        "l[0:3]"
      ]
    },
    {
      "cell_type": "code",
      "execution_count": null,
      "metadata": {
        "id": "jIlgTTinYFXq",
        "outputId": "642bd5aa-7896-468c-a1af-68e59730e3d7"
      },
      "outputs": [
        {
          "data": {
            "text/plain": [
              "[45, 34, 34]"
            ]
          },
          "execution_count": 239,
          "metadata": {},
          "output_type": "execute_result"
        }
      ],
      "source": [
        "l[3:0:-1]"
      ]
    },
    {
      "cell_type": "code",
      "execution_count": null,
      "metadata": {
        "id": "AMAUs1w0YFXr",
        "outputId": "900be3a7-cd82-4940-fa84-291e3b4cded1"
      },
      "outputs": [
        {
          "data": {
            "text/plain": [
              "[[34, 45], 45, 34, 34, 'sudh']"
            ]
          },
          "execution_count": 240,
          "metadata": {},
          "output_type": "execute_result"
        }
      ],
      "source": [
        "l[::-1]"
      ]
    },
    {
      "cell_type": "code",
      "execution_count": null,
      "metadata": {
        "id": "u8S3Eq97YFXr",
        "outputId": "6b5f9473-a63d-4602-ce0a-87d7a390e3f2"
      },
      "outputs": [
        {
          "data": {
            "text/plain": [
              "['sudh', 34, 34, 45, [34, 45]]"
            ]
          },
          "execution_count": 241,
          "metadata": {},
          "output_type": "execute_result"
        }
      ],
      "source": [
        "l "
      ]
    },
    {
      "cell_type": "code",
      "execution_count": null,
      "metadata": {
        "id": "OrMfF25HYFXs",
        "outputId": "43dffacf-0d24-4baf-a89e-11e7f6ac2bd3"
      },
      "outputs": [
        {
          "data": {
            "text/plain": [
              "['s', 'u', 'd', 'h']"
            ]
          },
          "execution_count": 249,
          "metadata": {},
          "output_type": "execute_result"
        }
      ],
      "source": [
        "s = \"sudh\"\n",
        "s = list(s)\n",
        "s"
      ]
    },
    {
      "cell_type": "code",
      "execution_count": null,
      "metadata": {
        "id": "wz6cqSPNYFXs"
      },
      "outputs": [],
      "source": [
        "s = [\"sudh\"]"
      ]
    },
    {
      "cell_type": "code",
      "execution_count": null,
      "metadata": {
        "id": "8c48cZTlYFXt",
        "outputId": "80d9239c-4ed4-495a-ef9d-2bcc34ecba5e"
      },
      "outputs": [
        {
          "data": {
            "text/plain": [
              "['sudh', 34, 34, 45, [34, 45], 'sudh']"
            ]
          },
          "execution_count": 252,
          "metadata": {},
          "output_type": "execute_result"
        }
      ],
      "source": [
        "l + s "
      ]
    },
    {
      "cell_type": "code",
      "execution_count": null,
      "metadata": {
        "id": "wqD37KaoYFXt",
        "outputId": "9dc95bbb-87ae-4bf0-8504-c7553d70da39"
      },
      "outputs": [
        {
          "data": {
            "text/plain": [
              "['sudh', 34, 34, 45, [34, 45]]"
            ]
          },
          "execution_count": 257,
          "metadata": {},
          "output_type": "execute_result"
        }
      ],
      "source": [
        "l"
      ]
    },
    {
      "cell_type": "code",
      "execution_count": null,
      "metadata": {
        "id": "Pt9q3n80YFXu",
        "outputId": "46d5441b-55f6-4abb-d59c-705b69229573"
      },
      "outputs": [
        {
          "data": {
            "text/plain": [
              "['sudh', 34, 34, 45, [34, 45], 'sudh', 34, 34, 45, [34, 45]]"
            ]
          },
          "execution_count": 255,
          "metadata": {},
          "output_type": "execute_result"
        }
      ],
      "source": [
        "l *2"
      ]
    },
    {
      "cell_type": "code",
      "execution_count": null,
      "metadata": {
        "id": "cpxe18t2YFXu",
        "outputId": "8b19659d-882b-4b49-8816-ed701b495f8f"
      },
      "outputs": [
        {
          "data": {
            "text/plain": [
              "5"
            ]
          },
          "execution_count": 256,
          "metadata": {},
          "output_type": "execute_result"
        }
      ],
      "source": [
        "len(l)"
      ]
    },
    {
      "cell_type": "code",
      "execution_count": null,
      "metadata": {
        "id": "5MzuOx8-YFXv",
        "outputId": "189f5dc5-07a3-4c17-c8e6-963124e11884"
      },
      "outputs": [
        {
          "data": {
            "text/plain": [
              "['sudh', 34, 34, 45, [34, 45]]"
            ]
          },
          "execution_count": 258,
          "metadata": {},
          "output_type": "execute_result"
        }
      ],
      "source": [
        "l "
      ]
    },
    {
      "cell_type": "code",
      "execution_count": null,
      "metadata": {
        "id": "dyTR5vc7YFXv",
        "outputId": "01c32d69-f777-4d1b-ad23-51eb78d550be"
      },
      "outputs": [
        {
          "data": {
            "text/plain": [
              "False"
            ]
          },
          "execution_count": 261,
          "metadata": {},
          "output_type": "execute_result"
        }
      ],
      "source": [
        "454 in l "
      ]
    },
    {
      "cell_type": "code",
      "execution_count": null,
      "metadata": {
        "id": "hpgNJIPkYFXv"
      },
      "outputs": [],
      "source": [
        ""
      ]
    }
  ],
  "metadata": {
    "kernelspec": {
      "display_name": "Python 3",
      "language": "python",
      "name": "python3"
    },
    "language_info": {
      "codemirror_mode": {
        "name": "ipython",
        "version": 3
      },
      "file_extension": ".py",
      "mimetype": "text/x-python",
      "name": "python",
      "nbconvert_exporter": "python",
      "pygments_lexer": "ipython3",
      "version": "3.8.3"
    },
    "colab": {
      "name": "13th jan python string and list manupulation.ipynb",
      "provenance": [],
      "include_colab_link": true
    }
  },
  "nbformat": 4,
  "nbformat_minor": 0
}