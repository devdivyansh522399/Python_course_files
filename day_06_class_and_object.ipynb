{
  "cells": [
    {
      "cell_type": "markdown",
      "metadata": {
        "id": "view-in-github",
        "colab_type": "text"
      },
      "source": [
        "<a href=\"https://colab.research.google.com/github/devdivyansh522399/Python_course_files/blob/main/day_06_class_and_object.ipynb\" target=\"_parent\"><img src=\"https://colab.research.google.com/assets/colab-badge.svg\" alt=\"Open In Colab\"/></a>"
      ]
    },
    {
      "cell_type": "code",
      "execution_count": null,
      "metadata": {
        "id": "V9mqMjaji0c5"
      },
      "outputs": [],
      "source": [
        "class car:\n",
        "    pass"
      ]
    },
    {
      "cell_type": "code",
      "execution_count": null,
      "metadata": {
        "id": "eal_yd_Qi0c9"
      },
      "outputs": [],
      "source": [
        "audiq7 = car()"
      ]
    },
    {
      "cell_type": "code",
      "execution_count": null,
      "metadata": {
        "id": "eS57E-zYi0c-"
      },
      "outputs": [],
      "source": [
        "audiq7.milage  = 10\n",
        "audiq7.year= 2020\n",
        "audiq7.make = 345\n",
        "audiq7.model = \"fsdf\""
      ]
    },
    {
      "cell_type": "code",
      "execution_count": null,
      "metadata": {
        "id": "HY1QHBQPi0c-",
        "outputId": "82f94787-e793-4510-f8af-5377f10eb7a1"
      },
      "outputs": [
        {
          "data": {
            "text/plain": [
              "10"
            ]
          },
          "execution_count": 7,
          "metadata": {},
          "output_type": "execute_result"
        }
      ],
      "source": [
        "audiq7.milage"
      ]
    },
    {
      "cell_type": "code",
      "execution_count": null,
      "metadata": {
        "id": "ojwEMfv3i0dA",
        "outputId": "28f5e8ed-c797-4cca-94f7-be9cd114d5c7"
      },
      "outputs": [
        {
          "data": {
            "text/plain": [
              "2020"
            ]
          },
          "execution_count": 9,
          "metadata": {},
          "output_type": "execute_result"
        }
      ],
      "source": [
        "audiq7.year"
      ]
    },
    {
      "cell_type": "code",
      "execution_count": null,
      "metadata": {
        "id": "-HhgN-wqi0dB"
      },
      "outputs": [],
      "source": [
        "nano = car()"
      ]
    },
    {
      "cell_type": "code",
      "execution_count": null,
      "metadata": {
        "id": "P3bPNGvHi0dB"
      },
      "outputs": [],
      "source": [
        "nano.milage = 20 \n",
        "nano.year  = 2020\n",
        "nano.make = 234\n",
        "nano.model = \"sdfa\"\n",
        "nano.enginno = 345554554353"
      ]
    },
    {
      "cell_type": "code",
      "execution_count": null,
      "metadata": {
        "id": "PRV3k-Egi0dD",
        "outputId": "61ae7fe2-95ee-4729-f578-7edd915b221a"
      },
      "outputs": [
        {
          "name": "stdout",
          "output_type": "stream",
          "text": [
            "20 10\n"
          ]
        }
      ],
      "source": [
        "print(nano.milage, audiq7.milage)"
      ]
    },
    {
      "cell_type": "code",
      "execution_count": null,
      "metadata": {
        "id": "Sqf8Z7SMi0dD"
      },
      "outputs": [],
      "source": [
        "class car :\n",
        "    def __init__(self , milage, year , make , model):\n",
        "        self.milage = milage\n",
        "        self.year = year\n",
        "        self.make = make \n",
        "        self.model = model"
      ]
    },
    {
      "cell_type": "code",
      "execution_count": null,
      "metadata": {
        "id": "z7fvqOCzi0dF"
      },
      "outputs": [],
      "source": [
        "nano1 = car(20, 2020 , 345324,\"234fsdf\")\n",
        "audiq71 = car(10,2020,543,\"sdff\")\n",
        "nano2 = car(20, 2020 , 345324,\"234fsdf\")\n",
        "audiq72= car(10,2020,543,\"sdff\")\n",
        "nano3= car(20, 2020 , 345324,\"234fsdf\")\n",
        "audiq75 = car(10,2020,543,\"sdff\")\n",
        "nano6 = car(20, 2020 , 345324,\"234fsdf\")\n",
        "audiq7678 = car(10,2020,543,\"sdff\")\n",
        "nano2 = car(20, 2020 , 345324,\"234fsdf\")\n",
        "audiq754 = car(10,2020,543,\"sdff\")\n",
        "nano67 = car(20, 2020 , 345324,\"234fsdf\")\n",
        "audiq789 = car(10,2020,543,\"sdff\")"
      ]
    },
    {
      "cell_type": "code",
      "execution_count": null,
      "metadata": {
        "id": "e_f98yW5i0dF",
        "outputId": "7d5c940b-2867-479b-c96c-a8ae5426aa07"
      },
      "outputs": [
        {
          "data": {
            "text/plain": [
              "20"
            ]
          },
          "execution_count": 17,
          "metadata": {},
          "output_type": "execute_result"
        }
      ],
      "source": [
        "nano1.milage"
      ]
    },
    {
      "cell_type": "code",
      "execution_count": null,
      "metadata": {
        "id": "CzTrAthAi0dG"
      },
      "outputs": [],
      "source": [
        "class car :\n",
        "    def __init__(a, m, y , ma , mo):\n",
        "        a.milage = m\n",
        "        a.year = y\n",
        "        a.make = ma\n",
        "        a.model = mo\n",
        "        \n",
        "    def age(b,current_year):\n",
        "        return current_year - b.year\n",
        "    \n",
        "    \n",
        "    def milage1(self):\n",
        "        print(\"print a milage of car \" , self.milage)\n",
        "        #return self.milage\n",
        "        \n",
        "    def __str__(c):\n",
        "        return \"this is my car class i have created \""
      ]
    },
    {
      "cell_type": "code",
      "execution_count": null,
      "metadata": {
        "id": "AkJPht45i0dH"
      },
      "outputs": [],
      "source": [
        "nano67 = car(20, 2020 , 345324,\"234fsdf\")"
      ]
    },
    {
      "cell_type": "code",
      "execution_count": null,
      "metadata": {
        "id": "DiB78U3Li0dH",
        "outputId": "d5f47f8d-46c6-475d-ac66-421646ee9cbc"
      },
      "outputs": [
        {
          "name": "stdout",
          "output_type": "stream",
          "text": [
            "print a milage of car  20\n"
          ]
        }
      ],
      "source": [
        "nano67.milage1()"
      ]
    },
    {
      "cell_type": "code",
      "execution_count": null,
      "metadata": {
        "id": "Yy5ItGnMi0dI",
        "outputId": "e8dfff11-f9bf-4920-aa66-86c9851427f3"
      },
      "outputs": [
        {
          "data": {
            "text/plain": [
              "1"
            ]
          },
          "execution_count": 85,
          "metadata": {},
          "output_type": "execute_result"
        }
      ],
      "source": [
        "nano67.age(2021)"
      ]
    },
    {
      "cell_type": "code",
      "execution_count": null,
      "metadata": {
        "id": "nBdDsVsvi0dI",
        "outputId": "563c63d0-b21e-4461-fbee-3a509dcd327b"
      },
      "outputs": [
        {
          "ename": "TypeError",
          "evalue": "__str__() takes 0 positional arguments but 1 was given",
          "output_type": "error",
          "traceback": [
            "\u001b[1;31m---------------------------------------------------------------------------\u001b[0m",
            "\u001b[1;31mTypeError\u001b[0m                                 Traceback (most recent call last)",
            "\u001b[1;32m<ipython-input-86-166468acc656>\u001b[0m in \u001b[0;36m<module>\u001b[1;34m\u001b[0m\n\u001b[1;32m----> 1\u001b[1;33m \u001b[0mprint\u001b[0m\u001b[1;33m(\u001b[0m\u001b[0mnano67\u001b[0m\u001b[1;33m)\u001b[0m\u001b[1;33m\u001b[0m\u001b[1;33m\u001b[0m\u001b[0m\n\u001b[0m",
            "\u001b[1;31mTypeError\u001b[0m: __str__() takes 0 positional arguments but 1 was given"
          ]
        }
      ],
      "source": [
        "print(nano67)"
      ]
    },
    {
      "cell_type": "code",
      "execution_count": null,
      "metadata": {
        "id": "e39a-0zCi0dI",
        "outputId": "fa951a9a-a3ff-4add-bed2-3c3859e552e3"
      },
      "outputs": [
        {
          "name": "stdout",
          "output_type": "stream",
          "text": [
            "this is my car class i have created\n"
          ]
        }
      ],
      "source": [
        "print(nano67)"
      ]
    },
    {
      "cell_type": "code",
      "execution_count": null,
      "metadata": {
        "id": "dd0k9Lnzi0dJ"
      },
      "outputs": [],
      "source": [
        "class student:\n",
        "    \n",
        "    def __init__(self , name , rollno , joining_date , current_topic):\n",
        "        self.name = name \n",
        "        self.rollno = rollno\n",
        "        self.joining_date =  joining_date\n",
        "        self.current_topic = current_topic\n",
        "        \n",
        "        \n",
        "    def name_Parsing(self) :\n",
        "\n",
        "        if type(self.name) == list:\n",
        "            for i in self.name :\n",
        "                print(\"name of the stuent \" , i )\n",
        "        else : \n",
        "            print(\"provided name is not in a form of list \")\n",
        "    \n",
        "        \n",
        "    def crt_topic(self):\n",
        "        print(\"current topic discussed in my class is \" , self.current_topic)\n",
        "        \n",
        "    def str_rollno(self):\n",
        "        \n",
        "        try :\n",
        "        \n",
        "            if type(self.rollno) == str:\n",
        "                print(\"do nothing \")\n",
        "\n",
        "            else :\n",
        "                return str(self.rollno)\n",
        "        except Exception as e  :\n",
        "            \n",
        "            print(\"this is my erro msg \" , e )\n",
        "        \n",
        "        \n",
        "    def duration(self,*current_date) :\n",
        "        \n",
        "        print(\"duration of student in my class is \" , current_date- self.joining_date)\n",
        "        \n",
        "    def __str__(self):\n",
        "        \n",
        "        \n",
        "        return \"this is strudent class where they can tyr to input there own data and they can try to fetch it \"\n",
        "          "
      ]
    },
    {
      "cell_type": "code",
      "execution_count": null,
      "metadata": {
        "id": "-XamKjQHi0dJ",
        "outputId": "e0ac22c0-1aae-4ce1-dd72-6091a62c12c9"
      },
      "outputs": [
        {
          "data": {
            "text/plain": [
              "['naveen', 'jay', 'himnashu ', 'prakash ']"
            ]
          },
          "execution_count": 124,
          "metadata": {},
          "output_type": "execute_result"
        }
      ],
      "source": [
        "pawan.name"
      ]
    },
    {
      "cell_type": "code",
      "execution_count": null,
      "metadata": {
        "id": "8EC05o8Bi0dM",
        "outputId": "f6a5143e-34a0-444f-f675-2af7b84ef1b6"
      },
      "outputs": [
        {
          "name": "stdout",
          "output_type": "stream",
          "text": [
            "this is strudent class where they can tyr to input there own data and they can try to fetch it \n"
          ]
        }
      ],
      "source": [
        "srini = student(\"srini\" , \"####\", 2021,\"oops\")\n",
        "print(srini)"
      ]
    },
    {
      "cell_type": "code",
      "execution_count": null,
      "metadata": {
        "id": "VyueP-Q5i0dN",
        "outputId": "f147aca2-7df5-48d7-9960-78aafcc18456"
      },
      "outputs": [
        {
          "name": "stdout",
          "output_type": "stream",
          "text": [
            "duration of student in my class is  0\n"
          ]
        }
      ],
      "source": [
        "srini.duration(2021)"
      ]
    },
    {
      "cell_type": "code",
      "execution_count": null,
      "metadata": {
        "id": "x4-6w1cNi0dO",
        "outputId": "4044cb95-0048-4eaa-f09d-037a72f51310"
      },
      "outputs": [
        {
          "name": "stdout",
          "output_type": "stream",
          "text": [
            "do nothing \n"
          ]
        }
      ],
      "source": [
        "srini.str_rollno()"
      ]
    },
    {
      "cell_type": "code",
      "execution_count": null,
      "metadata": {
        "id": "Uqswa7uvi0dP",
        "outputId": "15251009-b2c1-46e6-dd08-fd59ac020e7f"
      },
      "outputs": [
        {
          "name": "stdout",
          "output_type": "stream",
          "text": [
            "this is strudent class where they can tyr to input there own data and they can try to fetch it \n"
          ]
        }
      ],
      "source": [
        "print(srini)"
      ]
    },
    {
      "cell_type": "code",
      "execution_count": null,
      "metadata": {
        "id": "2w81rJkBi0dQ"
      },
      "outputs": [],
      "source": [
        "marur  = student(\"marur\",\"dfsf\" , 55345,345)"
      ]
    },
    {
      "cell_type": "code",
      "execution_count": null,
      "metadata": {
        "id": "xxC0g4Oni0dQ"
      },
      "outputs": [],
      "source": [
        "pawan = student([\"naveen\",\"jay\" , \"himnashu \" , \"prakash \" ] ,[234,2423,423,34,234], 2021 , \"oops\" )"
      ]
    },
    {
      "cell_type": "code",
      "execution_count": null,
      "metadata": {
        "id": "Dw62brYJi0dQ",
        "outputId": "bd15a6c9-2197-49fb-b733-4cdea892d0d4"
      },
      "outputs": [
        {
          "name": "stdout",
          "output_type": "stream",
          "text": [
            "name of the stuent  naveen\n",
            "name of the stuent  jay\n",
            "name of the stuent  himnashu \n",
            "name of the stuent  prakash \n"
          ]
        }
      ],
      "source": [
        "pawan.name_Parsing()"
      ]
    },
    {
      "cell_type": "code",
      "execution_count": null,
      "metadata": {
        "id": "ejitLVqui0dR",
        "outputId": "1ca89f16-aa63-4628-8f16-404a19da0cd9"
      },
      "outputs": [
        {
          "name": "stdout",
          "output_type": "stream",
          "text": [
            "This is test file\n"
          ]
        }
      ],
      "source": [
        "## challange \n",
        "class data :\n",
        "    def __init__(self,filename,filetype,date,size):\n",
        "        self.filename = filename\n",
        "        self.filetype = filetype\n",
        "        self.date = date\n",
        "        self.size = size\n",
        "        \n",
        "    def fileopen(self):\n",
        "        f = open(self.filename,'w')\n",
        "        f.write(\"This is test file\")\n",
        "        f.close()\n",
        "    \n",
        "    def fileread(self):\n",
        "        f = open(self.filename,'r')\n",
        "        print(f.read())\n",
        "        f.close()\n",
        "    \n",
        "    def fileappend(self):\n",
        "        f = open(self.filename,'a')\n",
        "        f.write(\"Appending data to file\")\n",
        "        f.close()\n",
        "\n",
        "        \n",
        "file1 = data('file1','txt','2021-4-11','2MB')\n",
        "file1.fileopen()\n",
        "file1.fileread()\n",
        "file1.fileappend()\n"
      ]
    },
    {
      "cell_type": "code",
      "execution_count": null,
      "metadata": {
        "id": "w3RT-nT3i0dS"
      },
      "outputs": [],
      "source": [
        "class data:\n",
        "    def __init__(self, file_name, file_type, date, size):\n",
        "        self.file_name = file_name\n",
        "        self.file_type = file_type\n",
        "        self.date = date\n",
        "        self.size = size\n",
        "        \n",
        "    def file_open(self):\n",
        "        try:\n",
        "            with open(f\"{self.file_name}.txt\", \"w\") as wr:\n",
        "                wr.write(\"hi iam a student of ineuron\")\n",
        "        except Exception as e:\n",
        "            print(e)\n",
        "            \n",
        "    def file_read(self):\n",
        "        try:\n",
        "            with open(f\"{self.file_name}.txt\", \"r\") as wr:\n",
        "                for line in wr:\n",
        "                    print(line)\n",
        "        except Exception as e:\n",
        "            print(e)\n",
        "                \n",
        "    def file_append(self):\n",
        "        try:\n",
        "            with open(f\"{self.file_name}.txt\", \"a\") as wr:\n",
        "                wr.write(\"hi iam a student of ineuron 2\")\n",
        "        except Exception as e:\n",
        "            print(e)\n",
        "            \n",
        "    def __str__(self):\n",
        "        return \"This task was given during oop class\"\n"
      ]
    },
    {
      "cell_type": "code",
      "execution_count": null,
      "metadata": {
        "id": "irlJbMKdi0dS"
      },
      "outputs": [],
      "source": [
        "class data:\n",
        "    def __init__(self,file_name,file_type,date,size):\n",
        "        self.file_name=file_name\n",
        "        self.file_type=file_type\n",
        "        self.date=date\n",
        "        self.size=size\n",
        "    def file_open(self,write):\n",
        "        f=open(self.file_name+\".\"+self.file_type,'w')\n",
        "        f.write(write)\n",
        "    def file_read(self):\n",
        "        f=open(self.file_name+\".\"+self.file_type,'r')\n",
        "        Lines = f.readlines()\n",
        "        for line in Lines:\n",
        "            print(line)\n",
        "    def __str__(self):\n",
        "        return \"Data class created\"\n"
      ]
    },
    {
      "cell_type": "code",
      "execution_count": null,
      "metadata": {
        "id": "VF9bsjhBi0dT"
      },
      "outputs": [],
      "source": [
        "Level 1 Ans SIr)\n",
        "class data:\n",
        "    def __init__(self,file_name,file_type,date,size):\n",
        "        self.file_name=file_name\n",
        "        self.file_type=file_type\n",
        "        self.date=date\n",
        "        self.size=size\n",
        "    def file_open(self):\n",
        "        f=open(self.file_name,'w+')\n",
        "        f.write(\"Hi I am writing\")\n",
        "    def file_read(self):\n",
        "        f=open(self.file_name,'r')\n",
        "        print(f.read())\n",
        "    def file_app(self):\n",
        "        f=open(self.file_name,'a')\n",
        "        f.write(\"appended\")\n"
      ]
    },
    {
      "cell_type": "code",
      "execution_count": null,
      "metadata": {
        "id": "SL2DA-sji0dT"
      },
      "outputs": [],
      "source": [
        "class Data:\n",
        "    def __init__(self, file_name, file_type, date, size):\n",
        "        self.file_name = file_name\n",
        "        self.file_type = file_type\n",
        "        self.date = date\n",
        "        self.size = size\n",
        "\n",
        "    def file_open(self):\n",
        "        with open(self.file_name, 'w') as fw:\n",
        "            fw.write(\"I am creating this file in file_open function.\\nAdding some content to it.\\n\")\n",
        "\n",
        "    def file_read(self):\n",
        "        with open(self.file_name, 'r') as fr:\n",
        "            data = fr.read()\n",
        "        print(\"Data in File:\\n\", data)\n",
        "\n",
        "    def file_append(self):\n",
        "        with open(self.file_name, 'a+') as fa:\n",
        "            fa.write(\"Appending the file...\")\n",
        "            fa.seek(0)\n",
        "            data = fa.read()\n",
        "        print(\"Data after append: \\n\", data)\n",
        "\n",
        "\n",
        "    def __str__(self):\n",
        "        return \"Class to read/write/append the file.\"\n",
        "\n",
        "file = Data(\"test.txt\", \"txt\", \"nothing\", 10)\n",
        "file.file_open()\n",
        "print(\"____________\")\n",
        "file.file_read()\n",
        "print('__________')\n",
        "file.file_append()\n"
      ]
    },
    {
      "cell_type": "code",
      "execution_count": null,
      "metadata": {
        "id": "TbK3_QPui0dU"
      },
      "outputs": [],
      "source": [
        "class data:\n",
        "    def __init__(self,filename,filetype,date,size):\n",
        "        self.filename=filename\n",
        "        self.filetype=filetype\n",
        "        self.date=date\n",
        "        self.size=size\n",
        "        \n",
        "    def file_open(self):\n",
        "        f=open(self.filename+\".\"+self.filetype,\"x\")\n",
        "        f.write(\"Hello this is abc file.\")\n",
        "        f.close()\n",
        "    def file_read(self):\n",
        "        f=open(self.filename+self.filetype,\"r\")\n",
        "        f.close()\n",
        "    def file_append(self):\n",
        "        f=open(self.filename+self.filetype,\"a\")\n",
        "        f.write(\"this is second line\")\n",
        "        f.close()\n"
      ]
    },
    {
      "cell_type": "code",
      "execution_count": null,
      "metadata": {
        "id": "OYViMRhUi0dV"
      },
      "outputs": [],
      "source": [
        "import os.path\n",
        "class data:\n",
        "    def __init__(self,file_name,file_type,date,size):\n",
        "        self.file_name=file_name\n",
        "        self.file_type=file_type\n",
        "        self.date = date\n",
        "        self.size = size\n",
        "    def file_open(self):\n",
        "        if os.path.isfile(self.file_name):\n",
        "            with open(self.file_name) as f\n",
        "            f.read()\n",
        "        else:\n",
        "            with open(self.file_name,'w+')as f\n",
        "            f.write('I am writing')\n",
        "    def file_read(self):\n",
        "        with open(self.file_name,'r')as f\n",
        "            f.read()\n"
      ]
    },
    {
      "cell_type": "code",
      "execution_count": null,
      "metadata": {
        "id": "CKaFGsjGi0dV"
      },
      "outputs": [],
      "source": [
        "import datetime\n",
        "class Data:\n",
        "    def __init__(self,filename,filetype,date,size):\n",
        "        self.filename=filename\n",
        "        self.filetype=filetype\n",
        "        self.date=date\n",
        "        self.size=size\n",
        "    def file_open(self):\n",
        "        f=open(self.filename,'w')\n",
        "        f.write(\"This is writing in Class object.\")\n",
        "     \n",
        "    def file_read(self):\n",
        "        f=open(self.filename,'r')\n",
        "        return f.read()\n",
        "    def append_data(self):\n",
        "        f=open(self.filename,'w+')\n",
        "        f.write('This is appending data in file.')\n",
        "file=Data('vaibhav','.txt','10/08/2021',5)\n",
        "file.file_open()\n",
        "file.file_read()\n",
        "file.append_data()\n"
      ]
    },
    {
      "cell_type": "code",
      "execution_count": null,
      "metadata": {
        "id": "46ltQo_gi0dV"
      },
      "outputs": [],
      "source": [
        "class data:\n",
        "    def __init__(self,filename,filetype,datasize):\n",
        "        self.filename=filename\n",
        "        self.filetype=filetype\n",
        "        self.datasize=datasize\n",
        "        \n",
        "    def file_open(self):\n",
        "        f=open(f'{self.filename}.txt','w')\n",
        "        f.write(\"this is class data\")\n",
        "        \n",
        "    def file_read(self):\n",
        "        f=open(f'{self.filename}.txt','w')\n",
        "        a=f.read()\n",
        "        return a\n",
        "    \n",
        "    def file_append(self):\n",
        "        f=open(f'{self.filename}.txt','w+')\n",
        "        f.write(\"this is appended\")\n",
        "        \n",
        "        \n",
        "mohit=data(\"class\",\"txt\",45)\n",
        "mohit.file_open\n",
        "mohit.file_read\n",
        "mohit.file_append\n"
      ]
    },
    {
      "cell_type": "code",
      "execution_count": null,
      "metadata": {
        "id": "1SmPFOCwi0dW"
      },
      "outputs": [],
      "source": [
        "import os\n",
        "\n",
        "class data:\n",
        "    def __init__(self,file_name,file_type,date,size):\n",
        "        self.file_name = file_name\n",
        "        self.file_type = file_type\n",
        "        self.date = date\n",
        "        self.size = size\n",
        "        \n",
        "    def file_open(self):\n",
        "        #take file name, create file if not exist write something\n",
        "        f = open(self.file_name,'x')\n",
        "            \n",
        "    def file_read(self):\n",
        "        #take file name, read, print(file)\n",
        "        f = open(self.file_name, 'r')\n",
        "        f.seek(0)\n",
        "        print(f.read())\n",
        "        \n",
        "    def file_append(self):\n",
        "        #append new data in same file n show\n",
        "        f = open(self.file_name, 'a')\n",
        "        f.write('Hello...this is appended data')\n"
      ]
    },
    {
      "cell_type": "code",
      "execution_count": null,
      "metadata": {
        "id": "wa4gVheti0dW"
      },
      "outputs": [],
      "source": [
        "# Create a class Data\n",
        "\n",
        "class Data:\n",
        "    def __init__(self, fname, ftype, date, size):\n",
        "        self.fname=fname\n",
        "        self.ftype=ftype\n",
        "        self.date=date\n",
        "        self.size=size\n",
        "    \n",
        "    def file_open(self):\n",
        "        file = open(self.fname, \"w\")\n",
        "        while True:\n",
        "            entry=input(\"Wanna write to file? If no, leave blank: \")\n",
        "            file.writelines(entry)\n",
        "            \n",
        "            if not entry:\n",
        "                break\n",
        "            \n",
        "        file.close()\n",
        "    \n",
        "    def file_read(self):\n",
        "        file = open(self.fname)\n",
        "        print(file.read())\n",
        "        file.close()\n",
        "    \n",
        "    def file_append(self):\n",
        "        file = open(self.fname, \"a\")\n",
        "        while True:\n",
        "            entry=input(\"Wanna write to file? If no, leave blank: \")\n",
        "            file.writelines(entry)\n",
        "            \n",
        "            if not entry:\n",
        "                break\n"
      ]
    },
    {
      "cell_type": "code",
      "execution_count": null,
      "metadata": {
        "id": "Z5AyX9t6i0dX"
      },
      "outputs": [],
      "source": [
        "class data:\n",
        "    def __init__(self, fileName, fileType, date, size):\n",
        "        self.fileName = fileName\n",
        "        self.fileType = fileType\n",
        "        self.date = date\n",
        "        self.size = size\n",
        "        \n",
        "    def fileOpen(self):\n",
        "        try:\n",
        "            a = open(self.fileName, 'w+')\n",
        "            a.write(\"File content\")\n",
        "            a.close()\n",
        "        except Exception as e:\n",
        "            print(\"Error occured\", e)\n",
        "    \n",
        "    def fileRead(self):\n",
        "        try:\n",
        "            a = open(self.fileName, \"r\")\n",
        "            print(a.read())\n",
        "        except:\n",
        "            print(\"Error occured\")\n"
      ]
    },
    {
      "cell_type": "code",
      "execution_count": null,
      "metadata": {
        "id": "LeqVgPwCi0dX"
      },
      "outputs": [],
      "source": [
        "class data :\n",
        "    def __init__(self,filename,filetype,data,size):\n",
        "        self.filename=filename\n",
        "        self.filetype=filetype\n",
        "        self.data=data\n",
        "        self.size=size\n",
        "        \n",
        "    def file_open(self):\n",
        "        f=open(self.filename,'w+')\n",
        "        f.write('this is first line')\n",
        "        f.close()\n",
        "        \n",
        "    def file_read(self):\n",
        "        try:\n",
        "            f =open(self.filename,'r')\n",
        "            print(f.read())\n",
        "            f.close()\n",
        "        except Exception as e:\n",
        "            print('error type is :',e)\n",
        "            \n",
        "            \n",
        "    def file_append(self):\n",
        "        try:\n",
        "            f= open(self.filename,'a')\n",
        "            f.write('this is the second line')\n",
        "            f.close()\n",
        "        except Exception as e:\n",
        "            print('error type :',e)\n"
      ]
    },
    {
      "cell_type": "code",
      "execution_count": null,
      "metadata": {
        "id": "FVLTA-Vai0dX"
      },
      "outputs": [],
      "source": [
        "class data:\n",
        "    def __init__(self,filename,filetype,date,size):\n",
        "        self.filename = filename\n",
        "        self.file_type = filetype\n",
        "        self.date = date\n",
        "        self.size = size\n",
        "        \n",
        "    def file_open(a,filename):\n",
        "        if type(self.filename) == list:\n",
        "            for i in filename:\n",
        "                f = open(i,'w')\n",
        "                f.write(\"OOPS\")\n",
        "        elif type(self.filename) == dict:\n",
        "            for i in filename:\n",
        "                f = open(i,'w')\n",
        "                f.write(\"OOPS\")\n",
        "        elif type(self.filename) == tuple:\n",
        "            for i in filename:\n",
        "                f = open(i,'w')\n",
        "                f.write(\"OOPS\")\n",
        "        else:\n",
        "            f = open(i,'w')\n",
        "            f.write(\"OOPS\")\n",
        "            \n",
        "    def file_read(b,filename):\n",
        "        if type(self.filename) == list:\n",
        "            for i in filename:\n",
        "                f = open(i,'r')\n",
        "                f.read()\n",
        "        elif type(self.filename) == dict:\n",
        "            for i in filename:\n",
        "                f = open(i,'r')\n",
        "                f.read()\n",
        "       \n",
        "elif type(self.filename) == tuple:\n",
        "            for i in filename:\n",
        "                f = open(i,'r')\n",
        " f.read()\n",
        "        else:\n",
        "            f = open(i,'r')\n",
        "            f.read()\n",
        "            \n",
        "    def file_append(c,filename):\n",
        "          if type(self.filename) == list:\n",
        "            for i in filename:\n",
        "                f = open(i,'a')\n",
        "                f.write(\"easy\")\n",
        "        elif type(self.filename) == dict:\n",
        "            for i in filename:\n",
        "                f = open(i,'a')\n",
        "                f.write(\"easy\")\n",
        "        elif type(self.filename) == tuple:\n",
        "            for i in filename:\n",
        "                f = open(i,'a')\n",
        "                f.write(\"easy\")\n",
        "        else:\n",
        "            f = open(i,'a')\n",
        "            f.write(\"easy\")\n"
      ]
    },
    {
      "cell_type": "code",
      "execution_count": null,
      "metadata": {
        "id": "PlXZAZlmi0dY"
      },
      "outputs": [],
      "source": [
        "import logging as lg\n",
        "lg.basicConfig(filename='OOPS.log', level=lg.ERROR)\n",
        "class Data:\n",
        "  def __init__(self, fileName, fileType, data, size):\n",
        "    self.fileName = fileName\n",
        "    self.fileType = fileType\n",
        "    self.data = data\n",
        "    self.size = size\n",
        "  \n",
        "  def File_open(self): \n",
        "    try:  \n",
        "      with open(self.fileName+self.fileType,'w') as f:\n",
        "        f.write(self.data)\n",
        "    except Exception as e:\n",
        "      self.logging(e)\n",
        "    \n",
        "  def File_read(self):\n",
        "    try:\n",
        "      with open(self.fileName+self.fileType,'r') as f:\n",
        "        f.read()\n",
        "    except FileNotFoundError as e:\n",
        "      self.logging(e)\n",
        "    except Exception as e:\n",
        "      self.logging(e)\n",
        "    \n",
        "  def  File_append(self, data):\n",
        "    try:\n",
        "      with open(self.fileName+self.fileType, 'a') as f:\n",
        "        f.write(data)\n",
        "    except FileNotFoundError as e:\n",
        "      self.logging(e)\n",
        "    except Exception as e:\n",
        "      self.logging(e)\n",
        "    \n",
        "    \n",
        "    \n",
        "  def logging(self, log):\n",
        "    lg.error(log) \n",
        "    \n",
        "    \n",
        "    \n",
        "d = Data('d','.txt','hi',2)\n",
        "d.File_open()\n",
        "d.File_append('op')\n"
      ]
    },
    {
      "cell_type": "code",
      "execution_count": null,
      "metadata": {
        "id": "nyD2lT3Ai0dY"
      },
      "outputs": [],
      "source": [
        "import os\n",
        "import logging as lg\n",
        "lg.basicConfig(filename='oops.log',level=lg.INFO)\n",
        "class data:\n",
        "    def __init__(self, filename, filetype, date, size):\n",
        "        self.filename = filename\n",
        "        self.filetype = filetype\n",
        "        self.date = date\n",
        "        self.size = size\n",
        "        \n",
        "    def File_open(self):\n",
        "        lst = os.listdir()\n",
        "        if self.filename is not os.listdir():\n",
        "            f = open(self.filename, 'w')\n",
        "            f.write(\"This is the file content\")\n",
        "            lg.info(\"Wrote the file\") \n",
        "            lg.info(self.filename) \n",
        "            f.close()\n",
        "        else:\n",
        "            print(\"file already exists\")\n",
        "    def File_read(self):\n",
        "        try:\n",
        "            f = open(self.filename, 'r')\n",
        "            for i in f:\n",
        "                print(i)\n",
        "            f.close()\n",
        "        except Exception as e:\n",
        "            print(\"file doesn't exist\", e)\n",
        "            \n",
        "    def File_append(self):\n",
        "        try:\n",
        "            f = open(self.filename, 'a')\n",
        "            f.write(\"Hello everyone\")\n",
        "            lg.info(\"appended to the file\") \n",
        "          \n"
      ]
    }
  ],
  "metadata": {
    "kernelspec": {
      "display_name": "Python 3",
      "language": "python",
      "name": "python3"
    },
    "language_info": {
      "codemirror_mode": {
        "name": "ipython",
        "version": 3
      },
      "file_extension": ".py",
      "mimetype": "text/x-python",
      "name": "python",
      "nbconvert_exporter": "python",
      "pygments_lexer": "ipython3",
      "version": "3.8.5"
    },
    "colab": {
      "name": "class and object.ipynb",
      "provenance": [],
      "include_colab_link": true
    }
  },
  "nbformat": 4,
  "nbformat_minor": 0
}