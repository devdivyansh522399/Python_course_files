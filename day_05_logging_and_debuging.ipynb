{
  "cells": [
    {
      "cell_type": "markdown",
      "metadata": {
        "id": "view-in-github",
        "colab_type": "text"
      },
      "source": [
        "<a href=\"https://colab.research.google.com/github/devdivyansh522399/Python_course_files/blob/main/day_05_logging_and_debuging.ipynb\" target=\"_parent\"><img src=\"https://colab.research.google.com/assets/colab-badge.svg\" alt=\"Open In Colab\"/></a>"
      ]
    },
    {
      "cell_type": "code",
      "execution_count": null,
      "metadata": {
        "id": "ha6I_MnYVs_x"
      },
      "outputs": [],
      "source": [
        "import logging as lg"
      ]
    },
    {
      "cell_type": "code",
      "execution_count": null,
      "metadata": {
        "id": "t24Bl-q-Vs_4"
      },
      "outputs": [],
      "source": [
        "import os"
      ]
    },
    {
      "cell_type": "code",
      "execution_count": null,
      "metadata": {
        "id": "bokRSe9CVs_5",
        "outputId": "14dcb8c4-20c5-4713-ef48-01ae6fa194a3"
      },
      "outputs": [
        {
          "ename": "FileExistsError",
          "evalue": "[WinError 183] Cannot create a file when that file already exists: 'logging'",
          "output_type": "error",
          "traceback": [
            "\u001b[1;31m---------------------------------------------------------------------------\u001b[0m",
            "\u001b[1;31mFileExistsError\u001b[0m                           Traceback (most recent call last)",
            "\u001b[1;32m<ipython-input-3-9cfa7fb3f788>\u001b[0m in \u001b[0;36m<module>\u001b[1;34m\u001b[0m\n\u001b[1;32m----> 1\u001b[1;33m \u001b[0mos\u001b[0m\u001b[1;33m.\u001b[0m\u001b[0mmkdir\u001b[0m\u001b[1;33m(\u001b[0m\u001b[1;34m\"logging\"\u001b[0m\u001b[1;33m)\u001b[0m\u001b[1;33m\u001b[0m\u001b[1;33m\u001b[0m\u001b[0m\n\u001b[0m",
            "\u001b[1;31mFileExistsError\u001b[0m: [WinError 183] Cannot create a file when that file already exists: 'logging'"
          ]
        }
      ],
      "source": [
        "os.mkdir(\"logging\")"
      ]
    },
    {
      "cell_type": "code",
      "execution_count": null,
      "metadata": {
        "id": "NEmA56KhVs_8"
      },
      "outputs": [],
      "source": [
        "os.chdir(os.getcwd() + \"/\" + \"logging\")"
      ]
    },
    {
      "cell_type": "code",
      "execution_count": null,
      "metadata": {
        "id": "9OljOBvcVs_8",
        "outputId": "e67cbbe6-a754-48b4-c82c-f1d54ed00042"
      },
      "outputs": [
        {
          "data": {
            "text/plain": [
              "'E:\\\\Downloads\\\\logging'"
            ]
          },
          "execution_count": 5,
          "metadata": {},
          "output_type": "execute_result"
        }
      ],
      "source": [
        "pwd()"
      ]
    },
    {
      "cell_type": "code",
      "execution_count": null,
      "metadata": {
        "id": "fbvm39soVs_9"
      },
      "outputs": [],
      "source": [
        "lg.basicConfig(filename='E:\\\\Downloads\\\\logging\\\\logging\\\\test.log' , level = lg.ERROR , format  = '%(asctime)s %(message)s')"
      ]
    },
    {
      "cell_type": "code",
      "execution_count": null,
      "metadata": {
        "id": "uGLLLTaZVs_-"
      },
      "outputs": [],
      "source": [
        "lg.info(\" i am going to start my program\")"
      ]
    },
    {
      "cell_type": "code",
      "execution_count": null,
      "metadata": {
        "id": "Nve6UY0QVs__"
      },
      "outputs": [],
      "source": [
        "lg.warning(\"this is a first warning of my program so modify it \")"
      ]
    },
    {
      "cell_type": "code",
      "execution_count": null,
      "metadata": {
        "id": "LMaC8tgJVtAB"
      },
      "outputs": [],
      "source": [
        "lg.error(\"this is msg for error\")"
      ]
    },
    {
      "cell_type": "code",
      "execution_count": null,
      "metadata": {
        "id": "a2QdmP83VtAC",
        "outputId": "d3e500c8-0476-4776-dc3e-3872338ba4a8"
      },
      "outputs": [
        {
          "ename": "TypeError",
          "evalue": "can only concatenate str (not \"int\") to str",
          "output_type": "error",
          "traceback": [
            "\u001b[1;31m---------------------------------------------------------------------------\u001b[0m",
            "\u001b[1;31mTypeError\u001b[0m                                 Traceback (most recent call last)",
            "\u001b[1;32m<ipython-input-16-ec7735be4092>\u001b[0m in \u001b[0;36m<module>\u001b[1;34m\u001b[0m\n\u001b[1;32m----> 1\u001b[1;33m \u001b[1;34m\"sdfsfds\"\u001b[0m \u001b[1;33m+\u001b[0m \u001b[1;36m345\u001b[0m\u001b[1;33m\u001b[0m\u001b[1;33m\u001b[0m\u001b[0m\n\u001b[0m",
            "\u001b[1;31mTypeError\u001b[0m: can only concatenate str (not \"int\") to str"
          ]
        }
      ],
      "source": [
        "\"sdfsfds\" + 345"
      ]
    },
    {
      "cell_type": "code",
      "execution_count": null,
      "metadata": {
        "id": "pXb_Rf9tVtAD"
      },
      "outputs": [],
      "source": [
        "def test(a,b):\n",
        "    \n",
        "    try :\n",
        "        lg.info(str(a)+str(b))\n",
        "        div = a/b\n",
        "        return div\n",
        "    except Exception as e :\n",
        "        print(\"you can check you log for more into if your code will fail \")\n",
        "        lg.error(\"error has occured \")\n",
        "        lg.exception(str(e))"
      ]
    },
    {
      "cell_type": "code",
      "execution_count": null,
      "metadata": {
        "id": "q49FKQePVtAE",
        "outputId": "4a8531b8-a9ee-4cfb-a2d9-b85b2006d4b9"
      },
      "outputs": [
        {
          "name": "stdout",
          "output_type": "stream",
          "text": [
            "you can check you log for more into if your code will fail \n"
          ]
        }
      ],
      "source": [
        "test(4,0)"
      ]
    },
    {
      "cell_type": "code",
      "execution_count": null,
      "metadata": {
        "id": "UEAY_VlVVtAF"
      },
      "outputs": [],
      "source": [
        "import logging\n",
        "logging.basicConfig(filename='E:\\\\Downloads\\\\logging\\\\logging\\\\test1.log',level = logging.INFO)\n",
        "def test(a,b):\n",
        "    logging.info(\"this is a start of funciotn \")\n",
        "    return a+b"
      ]
    },
    {
      "cell_type": "code",
      "execution_count": null,
      "metadata": {
        "id": "G5Zle1h4VtAG",
        "outputId": "b91f6109-c6d8-4f4f-e039-0cb6029e0337"
      },
      "outputs": [
        {
          "data": {
            "text/plain": [
              "11"
            ]
          },
          "execution_count": 2,
          "metadata": {},
          "output_type": "execute_result"
        }
      ],
      "source": [
        "test(5,6)"
      ]
    },
    {
      "cell_type": "code",
      "execution_count": null,
      "metadata": {
        "id": "oE2WcMzCVtAH",
        "outputId": "1a4e59a3-a6e5-467a-cdd0-bd3bce1e34f8"
      },
      "outputs": [
        {
          "data": {
            "text/plain": [
              "11"
            ]
          },
          "execution_count": 3,
          "metadata": {},
          "output_type": "execute_result"
        }
      ],
      "source": [
        "test(5,6)"
      ]
    },
    {
      "cell_type": "code",
      "execution_count": null,
      "metadata": {
        "id": "bct9n2FIVtAH",
        "outputId": "6bbdebc0-ba66-43bd-b276-2bb610d8c835"
      },
      "outputs": [
        {
          "data": {
            "text/plain": [
              "11"
            ]
          },
          "execution_count": 4,
          "metadata": {},
          "output_type": "execute_result"
        }
      ],
      "source": [
        "test(5,6)"
      ]
    },
    {
      "cell_type": "code",
      "execution_count": null,
      "metadata": {
        "id": "a1jYWWrHVtAI",
        "outputId": "849973dd-5b09-46a0-8d0c-b9be3bef6da8"
      },
      "outputs": [
        {
          "data": {
            "text/plain": [
              "11"
            ]
          },
          "execution_count": 5,
          "metadata": {},
          "output_type": "execute_result"
        }
      ],
      "source": [
        "test(5,6)"
      ]
    },
    {
      "cell_type": "code",
      "execution_count": null,
      "metadata": {
        "id": "tO9CMuytVtAJ",
        "outputId": "080fdad0-f87a-4e2c-885f-9d4ebb7fe3b8"
      },
      "outputs": [
        {
          "data": {
            "text/plain": [
              "11"
            ]
          },
          "execution_count": 6,
          "metadata": {},
          "output_type": "execute_result"
        }
      ],
      "source": [
        "test(5,6)"
      ]
    },
    {
      "cell_type": "code",
      "execution_count": null,
      "metadata": {
        "id": "jxFhRAvmVtAJ"
      },
      "outputs": [],
      "source": [
        "logging.shutdown()"
      ]
    },
    {
      "cell_type": "code",
      "execution_count": null,
      "metadata": {
        "id": "aX1MmKtXVtAK"
      },
      "outputs": [],
      "source": [
        "import logging\n",
        "logging.basicConfig(filename='E:\\\\Downloads\\\\logging\\\\logging\\\\test2.log',level = logging.INFO)\n",
        "logging.debug(\"this is for debugging\")\n",
        "logging.info(\"this is info log\")\n",
        "logging.warning(\"this is my warning log\")\n",
        "logging.error(\"this is my error log\")\n",
        "logging.exception(\"this is my exception log\")\n",
        "logging.critical(\"this is my critical log \")"
      ]
    },
    {
      "cell_type": "code",
      "execution_count": null,
      "metadata": {
        "id": "boHNFEZwVtAL",
        "outputId": "4f664e0e-48ac-48ae-d398-c68e6d89bce6"
      },
      "outputs": [
        {
          "data": {
            "text/plain": [
              "'E:\\\\Downloads'"
            ]
          },
          "execution_count": 18,
          "metadata": {},
          "output_type": "execute_result"
        }
      ],
      "source": [
        "pwd()"
      ]
    },
    {
      "cell_type": "code",
      "execution_count": null,
      "metadata": {
        "id": "Snp-MXO3VtAM",
        "outputId": "567aedf7-d606-4348-ac15-1fec9acb7898"
      },
      "outputs": [
        {
          "name": "stdout",
          "output_type": "stream",
          "text": [
            "INFO:root:This is my addition function\n",
            "INFO:root:1\n",
            "INFO:root:2\n",
            "INFO:root:3\n",
            "INFO:root:4\n",
            "\n"
          ]
        }
      ],
      "source": [
        "import logging as lg\n",
        "lg.basicConfig(filename='test1.log',level=lg.INFO)\n",
        "def addition(*args):\n",
        "   \n",
        "    lg.info(\"This is my addition function\")   \n",
        "    sum1=0\n",
        "    for i in args:\n",
        "        lg.info(str(i)) \n",
        "        sum1=sum1+i\n",
        "    return sum1\n",
        "\n",
        "\n",
        "f = open(\"test1.log\", \"r\")\n",
        "print(f.read())\n"
      ]
    },
    {
      "cell_type": "code",
      "execution_count": null,
      "metadata": {
        "id": "8YA4L2HqVtAM",
        "outputId": "794426c3-ac20-407a-93ec-d2d3c6d13000"
      },
      "outputs": [
        {
          "data": {
            "text/plain": [
              "10"
            ]
          },
          "execution_count": 5,
          "metadata": {},
          "output_type": "execute_result"
        }
      ],
      "source": [
        "addition(1,2,3,4)"
      ]
    },
    {
      "cell_type": "code",
      "execution_count": null,
      "metadata": {
        "id": "kXrMFNp2VtAN",
        "outputId": "34b3b68e-1666-4b64-b4dd-ca615e08fdad"
      },
      "outputs": [
        {
          "name": "stdout",
          "output_type": "stream",
          "text": [
            "2021-04-04 16:37:54,392 - inside sum function\n",
            "2021-04-04 16:37:54,393 - user inputs(1, 2, 3, 4, 5, 6, 7, 8, 9, 10)\n",
            "\n"
          ]
        }
      ],
      "source": [
        "import logging\n",
        "import os\n",
        "logging.basicConfig(filename='app.log',level=logging.INFO,format='%(asctime)s - %(message)s')\n",
        "\n",
        "def log_sum(*args):\n",
        "    logging.info('inside sum function')\n",
        "    logging.info('user inputs'+str(args))\n",
        "    return sum(args)\n",
        "\n",
        "\n",
        "log_sum(1,2,3,4,5,6,7,8,9,10)\n",
        "\n",
        "#print log file data\n",
        "if(os.path.exists('app.log')):\n",
        "    file = open('app.log','r')\n",
        "    print(file.read())\n",
        "    file.close()\n"
      ]
    },
    {
      "cell_type": "code",
      "execution_count": null,
      "metadata": {
        "id": "Qq_KRcKSVtAO"
      },
      "outputs": [],
      "source": [
        "def add_nums(*args):\n",
        "    sum_num=0\n",
        "    for num in args:\n",
        "        lg.info(\"User input-->> {}\".format(num))\n",
        "        sum_num+=num\n",
        "        lg.info(\"Sum now is-->> {}\".format(sum_num))\n",
        "    lg.info(\"Final Sum-->> {}\".format(sum_num))\n",
        "    return sum_num\n",
        "\n",
        "fp=open(\"D:\\\\ineuron FSDS\\\\class practice\\\\logging\\\\add.log\",\"r\")\n",
        "print(fp.read())\n"
      ]
    },
    {
      "cell_type": "code",
      "execution_count": null,
      "metadata": {
        "id": "VFTfLB41VtAO",
        "outputId": "4a2f9236-8da5-4b0b-bc54-e3f27da2ffaf"
      },
      "outputs": [
        {
          "name": "stdout",
          "output_type": "stream",
          "text": [
            "4 5 6 7\n"
          ]
        },
        {
          "data": {
            "text/plain": [
              "22"
            ]
          },
          "execution_count": 6,
          "metadata": {},
          "output_type": "execute_result"
        }
      ],
      "source": [
        "import logging as lg1\n",
        "lg1.basicConfig(filename = 'test2.log',level = lg1.INFO,format = '%(asctime)s %(message)s')\n",
        "\n",
        "def summing():\n",
        "    lg1.info('This is start of the program')\n",
        "    s = list(map(int,input().split()))\n",
        "    lg1.info('User has entered: '+str(s))\n",
        "    lg1.info('Please check the log for more information')\n",
        "    return sum(s)\n",
        "    \n",
        "summing()\n"
      ]
    },
    {
      "cell_type": "code",
      "execution_count": null,
      "metadata": {
        "id": "vn9c4qEbVtAP",
        "outputId": "8365f454-477e-49fb-f48f-fde7f01896a2"
      },
      "outputs": [
        {
          "name": "stdout",
          "output_type": "stream",
          "text": [
            "4 5 6 7\n"
          ]
        },
        {
          "data": {
            "text/plain": [
              "22"
            ]
          },
          "execution_count": 4,
          "metadata": {},
          "output_type": "execute_result"
        }
      ],
      "source": [
        "summing()"
      ]
    },
    {
      "cell_type": "code",
      "execution_count": null,
      "metadata": {
        "id": "t2LUNQyoVtAQ"
      },
      "outputs": [],
      "source": [
        "import logging\n",
        "import os"
      ]
    },
    {
      "cell_type": "code",
      "execution_count": null,
      "metadata": {
        "id": "RxetjW-9VtAR",
        "outputId": "e3ce606d-bd25-403d-9031-74daa8047f2a"
      },
      "outputs": [
        {
          "name": "stderr",
          "output_type": "stream",
          "text": [
            "%(asctime)s %(name)s %(levelname)s %(message)s\n",
            "%(asctime)s %(name)s %(levelname)s %(message)s\n",
            "%(asctime)s %(name)s %(levelname)s %(message)s\n",
            "%(asctime)s %(name)s %(levelname)s %(message)s\n",
            "%(asctime)s %(name)s %(levelname)s %(message)s\n",
            "%(asctime)s %(name)s %(levelname)s %(message)s\n",
            "%(asctime)s %(name)s %(levelname)s %(message)s\n",
            "%(asctime)s %(name)s %(levelname)s %(message)s\n",
            "%(asctime)s %(name)s %(levelname)s %(message)s\n",
            "%(asctime)s %(name)s %(levelname)s %(message)s\n",
            "%(asctime)s %(name)s %(levelname)s %(message)s\n",
            "%(asctime)s %(name)s %(levelname)s %(message)s\n",
            "%(asctime)s %(name)s %(levelname)s %(message)s\n",
            "%(asctime)s %(name)s %(levelname)s %(message)s\n",
            "%(asctime)s %(name)s %(levelname)s %(message)s\n",
            "%(asctime)s %(name)s %(levelname)s %(message)s\n",
            "%(asctime)s %(name)s %(levelname)s %(message)s\n"
          ]
        }
      ],
      "source": [
        "logging.basicConfig(filename = 'app3.log' , level = logging.DEBUG , format = '%(asctime)s %(name)s %(levelname)s %(message)s',filemode ='r+')\n",
        "console_log = logging.StreamHandler()\n",
        "console_log.setLevel(logging.INFO)\n",
        "os.chmod(os.getcwd(),777)\n",
        "format  = '%(asctime)s %(name)s %(levelname)s %(message)s'\n",
        "console_log.setFormatter(format)\n",
        "logging.info(\"this is my first test code for log\")\n",
        "logging.getLogger().addHandler(console_log)\n",
        "\n",
        "logger1 = logging.getLogger('user1')\n",
        "logger2 = logging.getLogger('user2')\n",
        "logger3= logging.getLogger('user3')\n",
        "logger4= logging.getLogger('user4')\n",
        "logger1.info(\"this is info for logger one \")\n",
        "logger2.debug(\"this is a debug for logger two\")\n",
        "logger2.info(\"this is info for logger two \")"
      ]
    },
    {
      "cell_type": "code",
      "execution_count": null,
      "metadata": {
        "id": "SKNqFhIyVtAS",
        "outputId": "16a453c7-1638-47ac-dc3b-f6ef5fc08293"
      },
      "outputs": [
        {
          "data": {
            "text/plain": [
              "'E:\\\\Downloads'"
            ]
          },
          "execution_count": 10,
          "metadata": {},
          "output_type": "execute_result"
        }
      ],
      "source": [
        "os.getcwd()"
      ]
    },
    {
      "cell_type": "code",
      "execution_count": null,
      "metadata": {
        "id": "5faNcWNMVtAS",
        "outputId": "0a5f68e3-ce9f-4ab3-84a6-710c9e3b8d40"
      },
      "outputs": [
        {
          "name": "stderr",
          "output_type": "stream",
          "text": [
            "%(asctime)s %(name)s %(levelname)s %(message)s\n",
            "%(asctime)s %(name)s %(levelname)s %(message)s\n",
            "%(asctime)s %(name)s %(levelname)s %(message)s\n",
            "%(asctime)s %(name)s %(levelname)s %(message)s\n",
            "%(asctime)s %(name)s %(levelname)s %(message)s\n",
            "%(asctime)s %(name)s %(levelname)s %(message)s\n",
            "root - 2021-04-04 17:27:03,887 - INFO - main log\n",
            "%(asctime)s %(name)s %(levelname)s %(message)s\n",
            "%(asctime)s %(name)s %(levelname)s %(message)s\n",
            "%(asctime)s %(name)s %(levelname)s %(message)s\n",
            "%(asctime)s %(name)s %(levelname)s %(message)s\n",
            "%(asctime)s %(name)s %(levelname)s %(message)s\n",
            "%(asctime)s %(name)s %(levelname)s %(message)s\n",
            "user1 - 2021-04-04 17:27:03,891 - INFO - this is from user1 info\n",
            "user2 - 2021-04-04 17:27:03,893 - DEBUG - This is from user2 debug\n"
          ]
        }
      ],
      "source": [
        "# logging_example.py\n",
        "\n",
        "import logging\n",
        "\n",
        "logging.basicConfig(filename='app1.log',level=logging.DEBUG,format = '%(name)s - %(asctime)s - %(levelname)s - %(message)s')\n",
        "\n",
        "# Create handlers\n",
        "console_log = logging.StreamHandler()\n",
        "console_log.setLevel(logging.DEBUG)\n",
        "format = logging.Formatter('%(name)s - %(asctime)s - %(levelname)s - %(message)s')\n",
        "console_log.setFormatter(format)\n",
        "# Create a custom logger\n",
        "logging.getLogger('').addHandler(console_log)\n",
        "logging.info('main log')\n",
        "logger1 = logging.getLogger('user1')\n",
        "logger2 = logging.getLogger('user2')\n",
        "logger1.info('this is from user1 info')\n",
        "logger2.debug('This is from user2 debug')\n"
      ]
    },
    {
      "cell_type": "code",
      "execution_count": null,
      "metadata": {
        "id": "8EZlT1tfVtAT"
      },
      "outputs": [],
      "source": [
        ""
      ]
    },
    {
      "cell_type": "code",
      "execution_count": null,
      "metadata": {
        "id": "Tpqu1rMcVtAT"
      },
      "outputs": [],
      "source": [
        ""
      ]
    },
    {
      "cell_type": "code",
      "execution_count": null,
      "metadata": {
        "id": "Mw3P3Od2VtAT",
        "outputId": "ae4165c2-15e0-4bdc-aaaf-52c15d4a48ea"
      },
      "outputs": [
        {
          "name": "stderr",
          "output_type": "stream",
          "text": [
            "%(asctime)s %(levelname)s %(message)s\n"
          ]
        }
      ],
      "source": [
        ""
      ]
    },
    {
      "cell_type": "code",
      "execution_count": null,
      "metadata": {
        "id": "NQdTSVHbVtAU"
      },
      "outputs": [],
      "source": [
        ""
      ]
    },
    {
      "cell_type": "code",
      "execution_count": null,
      "metadata": {
        "id": "2cY3mYe5VtAU",
        "outputId": "75ff9a0b-d8d0-4075-895b-95b9ad9c4e4f"
      },
      "outputs": [
        {
          "name": "stderr",
          "output_type": "stream",
          "text": [
            "%(asctime)s %(levelname)s %(message)s\n",
            "%(asctime)s %(levelname)s %(message)s\n"
          ]
        }
      ],
      "source": [
        ""
      ]
    },
    {
      "cell_type": "code",
      "execution_count": null,
      "metadata": {
        "id": "1-IcYgwoVtAV"
      },
      "outputs": [],
      "source": [
        "def testdebug():\n",
        "    l = []\n",
        "    for i in range(10):\n",
        "        l.append(i)\n",
        "        print(\"we have appended your data in list \")\n",
        "    return l "
      ]
    },
    {
      "cell_type": "code",
      "execution_count": null,
      "metadata": {
        "id": "YGQlWXSkVtAV",
        "outputId": "ed4b6747-608c-4d68-b5d1-a2739cf93a58"
      },
      "outputs": [
        {
          "name": "stdout",
          "output_type": "stream",
          "text": [
            "we have appended your data in list \n",
            "we have appended your data in list \n",
            "we have appended your data in list \n",
            "we have appended your data in list \n",
            "we have appended your data in list \n",
            "we have appended your data in list \n",
            "we have appended your data in list \n",
            "we have appended your data in list \n",
            "we have appended your data in list \n",
            "we have appended your data in list \n"
          ]
        },
        {
          "data": {
            "text/plain": [
              "[0, 1, 2, 3, 4, 5, 6, 7, 8, 9]"
            ]
          },
          "execution_count": 15,
          "metadata": {},
          "output_type": "execute_result"
        }
      ],
      "source": [
        "testdebug()"
      ]
    },
    {
      "cell_type": "code",
      "execution_count": null,
      "metadata": {
        "id": "ckJqFBrbVtAV"
      },
      "outputs": [],
      "source": [
        "import ipdb\n",
        "!conda install ipdb"
      ]
    },
    {
      "cell_type": "code",
      "execution_count": null,
      "metadata": {
        "id": "l2EiyjYRVtAW",
        "outputId": "b508722f-eb17-4ae5-f23b-28d730705897"
      },
      "outputs": [
        {
          "name": "stdout",
          "output_type": "stream",
          "text": [
            "Collecting ipdb\n",
            "  Downloading ipdb-0.13.7.tar.gz (16 kB)\n",
            "Requirement already satisfied: setuptools in c:\\users\\win10\\anaconda3\\lib\\site-packages (from ipdb) (49.2.0.post20200714)\n",
            "Collecting ipython>=7.17.0\n",
            "  Downloading ipython-7.22.0-py3-none-any.whl (785 kB)\n",
            "Collecting toml>=0.10.2\n",
            "  Using cached toml-0.10.2-py2.py3-none-any.whl (16 kB)\n",
            "Requirement already satisfied: pygments in c:\\users\\win10\\anaconda3\\lib\\site-packages (from ipython>=7.17.0->ipdb) (2.6.1)\n",
            "Requirement already satisfied: backcall in c:\\users\\win10\\anaconda3\\lib\\site-packages (from ipython>=7.17.0->ipdb) (0.2.0)\n",
            "Requirement already satisfied: decorator in c:\\users\\win10\\anaconda3\\lib\\site-packages (from ipython>=7.17.0->ipdb) (4.4.2)\n",
            "Requirement already satisfied: prompt-toolkit!=3.0.0,!=3.0.1,<3.1.0,>=2.0.0 in c:\\users\\win10\\anaconda3\\lib\\site-packages (from ipython>=7.17.0->ipdb) (3.0.5)\n",
            "Requirement already satisfied: jedi>=0.16 in c:\\users\\win10\\anaconda3\\lib\\site-packages (from ipython>=7.17.0->ipdb) (0.17.1)\n",
            "Requirement already satisfied: traitlets>=4.2 in c:\\users\\win10\\anaconda3\\lib\\site-packages (from ipython>=7.17.0->ipdb) (4.3.3)\n",
            "Requirement already satisfied: colorama; sys_platform == \"win32\" in c:\\users\\win10\\anaconda3\\lib\\site-packages (from ipython>=7.17.0->ipdb) (0.4.3)\n",
            "Requirement already satisfied: pickleshare in c:\\users\\win10\\anaconda3\\lib\\site-packages (from ipython>=7.17.0->ipdb) (0.7.5)\n",
            "Requirement already satisfied: wcwidth in c:\\users\\win10\\anaconda3\\lib\\site-packages (from prompt-toolkit!=3.0.0,!=3.0.1,<3.1.0,>=2.0.0->ipython>=7.17.0->ipdb) (0.2.5)\n",
            "Requirement already satisfied: parso<0.8.0,>=0.7.0 in c:\\users\\win10\\anaconda3\\lib\\site-packages (from jedi>=0.16->ipython>=7.17.0->ipdb) (0.7.0)\n",
            "Requirement already satisfied: six in c:\\users\\win10\\anaconda3\\lib\\site-packages (from traitlets>=4.2->ipython>=7.17.0->ipdb) (1.15.0)\n",
            "Requirement already satisfied: ipython-genutils in c:\\users\\win10\\anaconda3\\lib\\site-packages (from traitlets>=4.2->ipython>=7.17.0->ipdb) (0.2.0)\n",
            "Building wheels for collected packages: ipdb\n",
            "  Building wheel for ipdb (setup.py): started\n",
            "  Building wheel for ipdb (setup.py): finished with status 'done'\n",
            "  Created wheel for ipdb: filename=ipdb-0.13.7-py3-none-any.whl size=11432 sha256=5e3b99a5233dd4e4afdf0f48404c32d5b2a5fa8a7b4a2f4d155f3e7fc382ee46\n",
            "  Stored in directory: c:\\users\\win10\\appdata\\local\\pip\\cache\\wheels\\b3\\e6\\33\\23ed5c0ce0654cd1426587c22918c3854c5e2583473e61538b\n",
            "Successfully built ipdb\n",
            "Installing collected packages: ipython, toml, ipdb\n",
            "  Attempting uninstall: ipython\n",
            "    Found existing installation: ipython 7.16.1\n",
            "    Uninstalling ipython-7.16.1:\n",
            "      Successfully uninstalled ipython-7.16.1\n",
            "  Attempting uninstall: toml\n",
            "    Found existing installation: toml 0.10.1\n",
            "    Uninstalling toml-0.10.1:\n",
            "      Successfully uninstalled toml-0.10.1\n",
            "Successfully installed ipdb-0.13.7 ipython-7.22.0 toml-0.10.2\n"
          ]
        },
        {
          "name": "stderr",
          "output_type": "stream",
          "text": [
            "ERROR: spyder 4.1.4 has requirement pyqt5<5.13; python_version >= \"3\", but you'll have pyqt5 5.15.1 which is incompatible.\n",
            "ERROR: spyder 4.1.4 has requirement pyqtwebengine<5.13; python_version >= \"3\", but you'll have pyqtwebengine 5.15.1 which is incompatible.\n",
            "ERROR: dvc 1.11.9 has requirement ruamel.yaml>=0.16.1, but you'll have ruamel-yaml 0.15.87 which is incompatible.\n",
            "ERROR: dvc 1.11.9 has requirement tqdm<5,>=4.45.0, but you'll have tqdm 4.43.0 which is incompatible.\n"
          ]
        }
      ],
      "source": [
        "!pip install --user ipdb"
      ]
    },
    {
      "cell_type": "code",
      "execution_count": null,
      "metadata": {
        "id": "5xxnMOboVtAW"
      },
      "outputs": [],
      "source": [
        "import ipdb"
      ]
    },
    {
      "cell_type": "code",
      "execution_count": null,
      "metadata": {
        "id": "mQNj63b0VtAW"
      },
      "outputs": [],
      "source": [
        "def testdebug():\n",
        "    ipdb.set_trace()\n",
        "    l = []\n",
        "    for i in range(10):\n",
        "        for j in range(5):\n",
        "            l.append(i)\n",
        "            if i == 4 :\n",
        "                continue\n",
        "            print(\"we have appended your data in list \")\n",
        "    return l "
      ]
    },
    {
      "cell_type": "code",
      "execution_count": null,
      "metadata": {
        "id": "AA0WfKRpVtAX",
        "outputId": "650abc57-8aed-43cb-eab2-6f78d4b6de3d"
      },
      "outputs": [
        {
          "name": "stdout",
          "output_type": "stream",
          "text": [
            "> \u001b[1;32m<ipython-input-22-42c0db6e3cd9>\u001b[0m(3)\u001b[0;36mtestdebug\u001b[1;34m()\u001b[0m\n",
            "\u001b[1;32m      2 \u001b[1;33m    \u001b[0mipdb\u001b[0m\u001b[1;33m.\u001b[0m\u001b[0mset_trace\u001b[0m\u001b[1;33m(\u001b[0m\u001b[1;33m)\u001b[0m\u001b[1;33m\u001b[0m\u001b[1;33m\u001b[0m\u001b[0m\n",
            "\u001b[0m\u001b[1;32m----> 3 \u001b[1;33m    \u001b[0ml\u001b[0m \u001b[1;33m=\u001b[0m \u001b[1;33m[\u001b[0m\u001b[1;33m]\u001b[0m\u001b[1;33m\u001b[0m\u001b[1;33m\u001b[0m\u001b[0m\n",
            "\u001b[0m\u001b[1;32m      4 \u001b[1;33m    \u001b[1;32mfor\u001b[0m \u001b[0mi\u001b[0m \u001b[1;32min\u001b[0m \u001b[0mrange\u001b[0m\u001b[1;33m(\u001b[0m\u001b[1;36m10\u001b[0m\u001b[1;33m)\u001b[0m\u001b[1;33m:\u001b[0m\u001b[1;33m\u001b[0m\u001b[1;33m\u001b[0m\u001b[0m\n",
            "\u001b[0m\n"
          ]
        }
      ],
      "source": [
        "testdebug()"
      ]
    },
    {
      "cell_type": "code",
      "execution_count": null,
      "metadata": {
        "id": "7bGegLIlVtAX"
      },
      "outputs": [],
      "source": [
        ""
      ]
    }
  ],
  "metadata": {
    "kernelspec": {
      "display_name": "Python 3",
      "language": "python",
      "name": "python3"
    },
    "language_info": {
      "codemirror_mode": {
        "name": "ipython",
        "version": 3
      },
      "file_extension": ".py",
      "mimetype": "text/x-python",
      "name": "python",
      "nbconvert_exporter": "python",
      "pygments_lexer": "ipython3",
      "version": "3.8.3"
    },
    "colab": {
      "name": "logging and debuging.ipynb",
      "provenance": [],
      "include_colab_link": true
    }
  },
  "nbformat": 4,
  "nbformat_minor": 0
}